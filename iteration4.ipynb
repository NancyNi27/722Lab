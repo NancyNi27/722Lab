{
 "cells": [
  {
   "cell_type": "code",
   "execution_count": 3,
   "id": "0117833e",
   "metadata": {},
   "outputs": [],
   "source": [
    "## import libraries and initialize spark session\n",
    "from pyspark.sql import SparkSession\n",
    "from pyspark.sql import functions as F\n",
    "from pyspark.ml.feature import VectorAssembler\n",
    "from pyspark.ml.regression import LinearRegression\n",
    "from pyspark.ml.stat import Correlation\n",
    "from pyspark.ml.evaluation import RegressionEvaluator\n",
    "from pyspark.sql.types import DoubleType, IntegerType\n",
    "from pyspark.sql import SparkSession\n",
    "from pyspark.sql.functions import col, isnan, when, count, desc, approx_count_distinct, countDistinct,log, sqrt\n",
    "from pyspark.sql import functions as F\n",
    "\n",
    "import seaborn as sns\n",
    "import matplotlib.pyplot as plt\n",
    "\n",
    "import pandas as pd\n",
    "import numpy as np\n",
    "import datetime\n",
    "import plotly.figure_factory as ff\n",
    "import plotly.offline as pyo"
   ]
  },
  {
   "cell_type": "code",
   "execution_count": 4,
   "id": "9a302a94",
   "metadata": {},
   "outputs": [
    {
     "name": "stderr",
     "output_type": "stream",
     "text": [
      "WARNING: An illegal reflective access operation has occurred\n",
      "WARNING: Illegal reflective access by org.apache.spark.unsafe.Platform (file:/home/ubuntu/.local/lib/python3.10/site-packages/pyspark/jars/spark-unsafe_2.12-3.2.1.jar) to constructor java.nio.DirectByteBuffer(long,int)\n",
      "WARNING: Please consider reporting this to the maintainers of org.apache.spark.unsafe.Platform\n",
      "WARNING: Use --illegal-access=warn to enable warnings of further illegal reflective access operations\n",
      "WARNING: All illegal access operations will be denied in a future release\n",
      "Using Spark's default log4j profile: org/apache/spark/log4j-defaults.properties\n",
      "Setting default log level to \"WARN\".\n",
      "To adjust logging level use sc.setLogLevel(newLevel). For SparkR, use setLogLevel(newLevel).\n",
      "24/05/22 02:41:26 WARN NativeCodeLoader: Unable to load native-hadoop library for your platform... using builtin-java classes where applicable\n"
     ]
    }
   ],
   "source": [
    "#initialize spark session\n",
    "spark = SparkSession.builder \\\n",
    "    .appName(\"Data Exploration with PySpark\") \\\n",
    "    .getOrCreate()"
   ]
  },
  {
   "cell_type": "code",
   "execution_count": 5,
   "id": "23884275",
   "metadata": {},
   "outputs": [
    {
     "name": "stderr",
     "output_type": "stream",
     "text": [
      "                                                                                \r"
     ]
    }
   ],
   "source": [
    "##Load Data\n",
    "data_train = \"./Datasets/train.csv\"\n",
    "data_testA = \"./Datasets/testA.csv\"\n",
    "\n",
    "data_train = spark.read.csv(data_train, header=True, inferSchema=True)\n",
    "data_testA = spark.read.csv(data_testA, header=True, inferSchema=True)"
   ]
  },
  {
   "cell_type": "code",
   "execution_count": 6,
   "id": "6dad2e11",
   "metadata": {},
   "outputs": [
    {
     "name": "stdout",
     "output_type": "stream",
     "text": [
      "root\n",
      " |-- id: integer (nullable = true)\n",
      " |-- loanAmnt: double (nullable = true)\n",
      " |-- term: integer (nullable = true)\n",
      " |-- interestRate: double (nullable = true)\n",
      " |-- installment: double (nullable = true)\n",
      " |-- grade: string (nullable = true)\n",
      " |-- subGrade: string (nullable = true)\n",
      " |-- employmentTitle: double (nullable = true)\n",
      " |-- employmentLength: string (nullable = true)\n",
      " |-- homeOwnership: integer (nullable = true)\n",
      " |-- annualIncome: double (nullable = true)\n",
      " |-- verificationStatus: integer (nullable = true)\n",
      " |-- issueDate: string (nullable = true)\n",
      " |-- isDefault: integer (nullable = true)\n",
      " |-- purpose: integer (nullable = true)\n",
      " |-- postCode: double (nullable = true)\n",
      " |-- regionCode: integer (nullable = true)\n",
      " |-- dti: double (nullable = true)\n",
      " |-- delinquency_2years: double (nullable = true)\n",
      " |-- ficoRangeLow: double (nullable = true)\n",
      " |-- ficoRangeHigh: double (nullable = true)\n",
      " |-- openAcc: double (nullable = true)\n",
      " |-- pubRec: double (nullable = true)\n",
      " |-- pubRecBankruptcies: double (nullable = true)\n",
      " |-- revolBal: double (nullable = true)\n",
      " |-- revolUtil: double (nullable = true)\n",
      " |-- totalAcc: double (nullable = true)\n",
      " |-- initialListStatus: integer (nullable = true)\n",
      " |-- applicationType: integer (nullable = true)\n",
      " |-- earliesCreditLine: string (nullable = true)\n",
      " |-- title: double (nullable = true)\n",
      " |-- policyCode: double (nullable = true)\n",
      " |-- n0: double (nullable = true)\n",
      " |-- n1: double (nullable = true)\n",
      " |-- n2: double (nullable = true)\n",
      " |-- n3: double (nullable = true)\n",
      " |-- n4: double (nullable = true)\n",
      " |-- n5: double (nullable = true)\n",
      " |-- n6: double (nullable = true)\n",
      " |-- n7: double (nullable = true)\n",
      " |-- n8: double (nullable = true)\n",
      " |-- n9: double (nullable = true)\n",
      " |-- n10: double (nullable = true)\n",
      " |-- n11: double (nullable = true)\n",
      " |-- n12: double (nullable = true)\n",
      " |-- n13: double (nullable = true)\n",
      " |-- n14: double (nullable = true)\n",
      "\n"
     ]
    },
    {
     "name": "stderr",
     "output_type": "stream",
     "text": [
      "24/05/22 02:41:42 WARN package: Truncated the string representation of a plan since it was too large. This behavior can be adjusted by setting 'spark.sql.debug.maxToStringFields'.\n"
     ]
    },
    {
     "name": "stdout",
     "output_type": "stream",
     "text": [
      "+---+--------+----+------------+-----------+-----+--------+---------------+----------------+-------------+------------+------------------+----------+---------+-------+--------+----------+-----+------------------+------------+-------------+-------+------+------------------+--------+---------+--------+-----------------+---------------+-----------------+------+----------+----+----+----+----+----+----+----+----+----+----+----+----+----+----+----+\n",
      "| id|loanAmnt|term|interestRate|installment|grade|subGrade|employmentTitle|employmentLength|homeOwnership|annualIncome|verificationStatus| issueDate|isDefault|purpose|postCode|regionCode|  dti|delinquency_2years|ficoRangeLow|ficoRangeHigh|openAcc|pubRec|pubRecBankruptcies|revolBal|revolUtil|totalAcc|initialListStatus|applicationType|earliesCreditLine| title|policyCode|  n0|  n1|  n2|  n3|  n4|  n5|  n6|  n7|  n8|  n9| n10| n11| n12| n13| n14|\n",
      "+---+--------+----+------------+-----------+-----+--------+---------------+----------------+-------------+------------+------------------+----------+---------+-------+--------+----------+-----+------------------+------------+-------------+-------+------+------------------+--------+---------+--------+-----------------+---------------+-----------------+------+----------+----+----+----+----+----+----+----+----+----+----+----+----+----+----+----+\n",
      "|  0| 35000.0|   5|       19.52|     917.97|    E|      E2|          320.0|         2 years|            2|    110000.0|                 2|2014-07-01|        1|      1|   137.0|        32|17.05|               0.0|       730.0|        734.0|    7.0|   0.0|               0.0| 24178.0|     48.9|    27.0|                0|              0|         Aug-2001|   1.0|       1.0| 0.0| 2.0| 2.0| 2.0| 4.0| 9.0| 8.0| 4.0|12.0| 2.0| 7.0| 0.0| 0.0| 0.0| 2.0|\n",
      "|  1| 18000.0|   5|       18.49|      461.9|    D|      D2|       219843.0|         5 years|            0|     46000.0|                 2|2012-08-01|        0|      0|   156.0|        18|27.83|               0.0|       700.0|        704.0|   13.0|   0.0|               0.0| 15096.0|     38.9|    18.0|                1|              0|         May-2002|1723.0|       1.0|null|null|null|null|10.0|null|null|null|null|null|13.0|null|null|null|null|\n",
      "|  2| 12000.0|   5|       16.99|     298.17|    D|      D3|        31698.0|         8 years|            0|     74000.0|                 2|2015-10-01|        0|      0|   337.0|        14|22.77|               0.0|       675.0|        679.0|   11.0|   0.0|               0.0|  4606.0|     51.8|    27.0|                0|              0|         May-2006|   0.0|       1.0| 0.0| 0.0| 3.0| 3.0| 0.0| 0.0|21.0| 4.0| 5.0| 3.0|11.0| 0.0| 0.0| 0.0| 4.0|\n",
      "|  3| 11000.0|   3|        7.26|     340.96|    A|      A4|        46854.0|       10+ years|            1|    118000.0|                 1|2015-08-01|        0|      4|   148.0|        11|17.21|               0.0|       685.0|        689.0|    9.0|   0.0|               0.0|  9948.0|     52.6|    28.0|                1|              0|         May-1999|   4.0|       1.0| 6.0| 4.0| 6.0| 6.0| 4.0|16.0| 4.0| 7.0|21.0| 6.0| 9.0| 0.0| 0.0| 0.0| 1.0|\n",
      "|  4|  3000.0|   3|       12.99|     101.07|    C|      C2|           54.0|            null|            1|     29000.0|                 2|2016-03-01|        0|     10|   301.0|        21|32.16|               0.0|       690.0|        694.0|   12.0|   0.0|               0.0|  2942.0|     32.0|    27.0|                0|              0|         Aug-1977|  11.0|       1.0| 1.0| 2.0| 7.0| 7.0| 2.0| 4.0| 9.0|10.0|15.0| 7.0|12.0| 0.0| 0.0| 0.0| 4.0|\n",
      "+---+--------+----+------------+-----------+-----+--------+---------------+----------------+-------------+------------+------------------+----------+---------+-------+--------+----------+-----+------------------+------------+-------------+-------+------+------------------+--------+---------+--------+-----------------+---------------+-----------------+------+----------+----+----+----+----+----+----+----+----+----+----+----+----+----+----+----+\n",
      "only showing top 5 rows\n",
      "\n"
     ]
    },
    {
     "name": "stderr",
     "output_type": "stream",
     "text": [
      "                                                                                \r"
     ]
    },
    {
     "name": "stdout",
     "output_type": "stream",
     "text": [
      "Train data shape: (800000, 47)\n",
      "TestA data shape: (200000, 46)\n"
     ]
    },
    {
     "name": "stderr",
     "output_type": "stream",
     "text": [
      "                                                                                \r"
     ]
    },
    {
     "name": "stdout",
     "output_type": "stream",
     "text": [
      "+-------+-----------------+-----------------+------------------+------------------+----------------+------+--------+------------------+----------------+------------------+-----------------+------------------+----------+------------------+-----------------+-----------------+------------------+------------------+------------------+-----------------+-----------------+-----------------+------------------+-------------------+------------------+------------------+----------------+------------------+------------------+-----------------+------------------+----------+------------------+-----------------+------------------+------------------+-----------------+-----------------+-----------------+-----------------+------------------+------------------+------------------+--------------------+--------------------+-------------------+------------------+\n",
      "|summary|               id|         loanAmnt|              term|      interestRate|     installment| grade|subGrade|   employmentTitle|employmentLength|     homeOwnership|     annualIncome|verificationStatus| issueDate|         isDefault|          purpose|         postCode|        regionCode|               dti|delinquency_2years|     ficoRangeLow|    ficoRangeHigh|          openAcc|            pubRec| pubRecBankruptcies|          revolBal|         revolUtil|        totalAcc| initialListStatus|   applicationType|earliesCreditLine|             title|policyCode|                n0|               n1|                n2|                n3|               n4|               n5|               n6|               n7|                n8|                n9|               n10|                 n11|                 n12|                n13|               n14|\n",
      "+-------+-----------------+-----------------+------------------+------------------+----------------+------+--------+------------------+----------------+------------------+-----------------+------------------+----------+------------------+-----------------+-----------------+------------------+------------------+------------------+-----------------+-----------------+-----------------+------------------+-------------------+------------------+------------------+----------------+------------------+------------------+-----------------+------------------+----------+------------------+-----------------+------------------+------------------+-----------------+-----------------+-----------------+-----------------+------------------+------------------+------------------+--------------------+--------------------+-------------------+------------------+\n",
      "|  count|           800000|           800000|            800000|            800000|          800000|800000|  800000|            799999|          753201|            800000|           800000|            800000|    800000|            800000|           800000|           799999|            800000|            799761|            800000|           800000|           800000|           800000|            800000|             799595|            800000|            799469|          800000|            800000|            800000|           800000|            799999|    800000|            759730|           759730|            759730|            759730|           766761|           759730|           759730|           759730|            759729|            759730|            766761|              730248|              759730|             759730|            759730|\n",
      "|   mean|         399999.5|     14416.818875|          3.482745|13.238391287537128|437.947723250041|  null|    null| 72005.35171418964|            null|         0.6142125|76133.91049318721|         1.0096825|      null|         0.1995125|        1.7459825|258.5356481695602|        16.3857575|18.284557286489655|        0.31823875|     696.20408125|     700.20422625|         11.59802|          0.214915|0.13416291997823898|      16228.706505|51.790733812066996|     24.99886125|         0.4169525|         0.0192675|             null|1754.1135888919862|       1.0|0.5119318705329525|3.642329511800245|5.6426480460163475|5.6426480460163475|4.735641223275571| 8.10793703026075|8.575994103168231| 8.28295315441012|14.622487755502291| 5.592344648756796|11.643895555459915|8.147916872076336E-4|0.003384096981822...|0.08936595895910389|2.1786055572374394|\n",
      "| stddev|230940.2520133725|8716.086178046953|0.8558318646411991| 4.765756555334487|261.460393264052|  null|    null|106585.64020390106|            null|0.6757485298828567|68947.51367204753|0.7827161139259818|      null|0.3996341601741248|2.367452663884516|200.0374463727893|11.036679229349398|11.150154831354344|0.8803245519196747|31.86599463213761|31.86667396740625|5.475286481368183|0.6064668189831172|0.37747083860116837|22458.020544102666| 24.51612601411526|11.9992005954258|0.4930551861840844|0.1374637663681206|             null| 7941.474040251565|       0.0|1.3332657109243142|2.246825302368939| 3.302810083238519| 3.302810083238519|2.949968517141036|4.799209861536485|7.400535995017739|4.561689058027413| 8.124610142271306|3.2161842088002928| 5.484103594436225|0.030075061009522026| 0.06204139749356596| 0.5090688319759835|1.8443771316117048|\n",
      "|    min|                0|            500.0|                 3|              5.31|           15.69|     A|      A1|               0.0|          1 year|                 0|              0.0|                 0|2007-06-01|                 0|                0|              0.0|                 0|              -1.0|               0.0|            630.0|            634.0|              0.0|               0.0|                0.0|               0.0|               0.0|             2.0|                 0|                 0|         Apr-1955|               0.0|       1.0|               0.0|              0.0|               0.0|               0.0|              0.0|              0.0|              0.0|              0.0|               1.0|               0.0|               0.0|                 0.0|                 0.0|                0.0|               0.0|\n",
      "|    max|           799999|          40000.0|                 5|             30.99|         1715.42|     G|      G5|          378351.0|        < 1 year|                 5|        1.09992E7|                 2|2018-12-01|                 1|               13|            940.0|                50|             999.0|              39.0|            845.0|            850.0|             86.0|              86.0|               12.0|         2904836.0|             892.3|           162.0|                 1|                 1|         Sep-2015|           61680.0|       1.0|              51.0|             33.0|              63.0|              63.0|             49.0|             70.0|            132.0|             79.0|             128.0|              45.0|              82.0|                 4.0|                 4.0|               39.0|              30.0|\n",
      "+-------+-----------------+-----------------+------------------+------------------+----------------+------+--------+------------------+----------------+------------------+-----------------+------------------+----------+------------------+-----------------+-----------------+------------------+------------------+------------------+-----------------+-----------------+-----------------+------------------+-------------------+------------------+------------------+----------------+------------------+------------------+-----------------+------------------+----------+------------------+-----------------+------------------+------------------+-----------------+-----------------+-----------------+-----------------+------------------+------------------+------------------+--------------------+--------------------+-------------------+------------------+\n",
      "\n"
     ]
    },
    {
     "name": "stderr",
     "output_type": "stream",
     "text": [
      "[Stage 14:=============================>                            (1 + 1) / 2]\r"
     ]
    },
    {
     "name": "stdout",
     "output_type": "stream",
     "text": [
      "+---+--------+----+------------+-----------+-----+--------+---------------+----------------+-------------+------------+------------------+---------+---------+-------+--------+----------+---+------------------+------------+-------------+-------+------+------------------+--------+---------+--------+-----------------+---------------+-----------------+-----+----------+-----+-----+-----+-----+-----+-----+-----+-----+-----+-----+-----+-----+-----+-----+-----+\n",
      "| id|loanAmnt|term|interestRate|installment|grade|subGrade|employmentTitle|employmentLength|homeOwnership|annualIncome|verificationStatus|issueDate|isDefault|purpose|postCode|regionCode|dti|delinquency_2years|ficoRangeLow|ficoRangeHigh|openAcc|pubRec|pubRecBankruptcies|revolBal|revolUtil|totalAcc|initialListStatus|applicationType|earliesCreditLine|title|policyCode|   n0|   n1|   n2|   n3|   n4|   n5|   n6|   n7|   n8|   n9|  n10|  n11|  n12|  n13|  n14|\n",
      "+---+--------+----+------------+-----------+-----+--------+---------------+----------------+-------------+------------+------------------+---------+---------+-------+--------+----------+---+------------------+------------+-------------+-------+------+------------------+--------+---------+--------+-----------------+---------------+-----------------+-----+----------+-----+-----+-----+-----+-----+-----+-----+-----+-----+-----+-----+-----+-----+-----+-----+\n",
      "|  0|       0|   0|           0|          0|    0|       0|              1|           46799|            0|           0|                 0|        0|        0|      0|       1|         0|239|                 0|           0|            0|      0|     0|               405|       0|      531|       0|                0|              0|                0|    1|         0|40270|40270|40270|40270|33239|40270|40270|40270|40271|40270|33239|69752|40270|40270|40270|\n",
      "+---+--------+----+------------+-----------+-----+--------+---------------+----------------+-------------+------------+------------------+---------+---------+-------+--------+----------+---+------------------+------------+-------------+-------+------+------------------+--------+---------+--------+-----------------+---------------+-----------------+-----+----------+-----+-----+-----+-----+-----+-----+-----+-----+-----+-----+-----+-----+-----+-----+-----+\n",
      "\n"
     ]
    },
    {
     "name": "stderr",
     "output_type": "stream",
     "text": [
      "\r",
      "                                                                                \r"
     ]
    }
   ],
   "source": [
    "## Data Preprocessing\n",
    "\n",
    "#check training dataset structure\n",
    "data_train.printSchema()\n",
    "data_train.show(5)\n",
    "\n",
    "#check the size\n",
    "print(\"Train data shape:\",(data_train.count(),len(data_train.columns)))\n",
    "print(\"TestA data shape:\",(data_testA.count(),len(data_testA.columns)))\n",
    "\n",
    "data_train.describe().show()\n",
    "\n",
    "#check the NAN\n",
    "data_train.select([count(when(isnan(c) | col(c).isNull(), c)).alias(c) for c in data_train.columns]).show()"
   ]
  },
  {
   "cell_type": "code",
   "execution_count": 7,
   "id": "41737795",
   "metadata": {},
   "outputs": [
    {
     "name": "stderr",
     "output_type": "stream",
     "text": [
      "                                                                                \r"
     ]
    },
    {
     "data": {
      "image/png": "[encoded data removed]",
      "text/plain": [
       "<Figure size 864x576 with 1 Axes>"
      ]
     },
     "metadata": {
      "needs_background": "light"
     },
     "output_type": "display_data"
    }
   ],
   "source": [
    "# visualize the NAN\n",
    "# caclulate the missing ration\n",
    "def calculate_missing_ratio(df):\n",
    "    total_count = df.count()\n",
    "    missing_ratio = df.select([((count(when(col(c).isNull(), c)) / total_count).alias(c)) for c in df.columns])\n",
    "    return missing_ratio\n",
    "\n",
    "# get the proportion of missing values\n",
    "missing_ratio_df = calculate_missing_ratio(data_train)\n",
    "\n",
    "# transform into pandas dataframe\n",
    "missing_ratio_pd = missing_ratio_df.toPandas()\n",
    "missing_ratio_pd = missing_ratio_pd.transpose()\n",
    "missing_ratio_pd.columns = ['missing_ratio']\n",
    "missing_ratio_pd = missing_ratio_pd[missing_ratio_pd['missing_ratio'] > 0]\n",
    "missing_ratio_pd.sort_values(by='missing_ratio', ascending=False, inplace=True)\n",
    "\n",
    "# plot a bar chart\n",
    "plt.figure(figsize=(12, 8))\n",
    "missing_ratio_pd['missing_ratio'].plot(kind='bar', color='skyblue')\n",
    "plt.title('Proportion of Missing Values by Column')\n",
    "plt.xlabel('Columns')\n",
    "plt.ylabel('Proportion of Missing Values')\n",
    "plt.show()"
   ]
  },
  {
   "cell_type": "code",
   "execution_count": 8,
   "id": "cef0d69d",
   "metadata": {},
   "outputs": [
    {
     "name": "stdout",
     "output_type": "stream",
     "text": [
      "Numeric Features: ['id', 'loanAmnt', 'term', 'interestRate', 'installment', 'employmentTitle', 'homeOwnership', 'annualIncome', 'verificationStatus', 'isDefault', 'purpose', 'postCode', 'regionCode', 'dti', 'delinquency_2years', 'ficoRangeLow', 'ficoRangeHigh', 'openAcc', 'pubRec', 'pubRecBankruptcies', 'revolBal', 'revolUtil', 'totalAcc', 'initialListStatus', 'applicationType', 'title', 'policyCode', 'n0', 'n1', 'n2', 'n3', 'n4', 'n5', 'n6', 'n7', 'n8', 'n9', 'n10', 'n11', 'n12', 'n13', 'n14']\n",
      "Object Features: ['grade', 'subGrade', 'employmentLength', 'issueDate', 'earliesCreditLine']\n"
     ]
    }
   ],
   "source": [
    "# Numeric and Object Type Characteristics\n",
    "numeric_features = [t[0] for t in data_train.dtypes if t[1] == 'int' or t[1] == 'double']\n",
    "object_features = [t[0] for t in data_train.dtypes if t[1] == 'string']\n",
    "\n",
    "print(\"Numeric Features:\", numeric_features)\n",
    "print(\"Object Features:\", object_features)"
   ]
  },
  {
   "cell_type": "code",
   "execution_count": 9,
   "id": "cb7b04c0",
   "metadata": {},
   "outputs": [
    {
     "name": "stdout",
     "output_type": "stream",
     "text": [
      "+-----+\n",
      "|grade|\n",
      "+-----+\n",
      "|    E|\n",
      "|    D|\n",
      "|    D|\n",
      "|    A|\n",
      "|    C|\n",
      "+-----+\n",
      "only showing top 5 rows\n",
      "\n"
     ]
    }
   ],
   "source": [
    "data_train.select('grade').show(5)"
   ]
  },
  {
   "cell_type": "code",
   "execution_count": 11,
   "id": "6bddae26",
   "metadata": {},
   "outputs": [
    {
     "name": "stderr",
     "output_type": "stream",
     "text": [
      "[Stage 147:>                                                        (0 + 2) / 2]\r"
     ]
    },
    {
     "name": "stdout",
     "output_type": "stream",
     "text": [
      "Serial (Continuous) Numerical Features: ['id', 'loanAmnt', 'interestRate', 'installment', 'employmentTitle', 'annualIncome', 'purpose', 'postCode', 'regionCode', 'dti', 'delinquency_2years', 'ficoRangeLow', 'ficoRangeHigh', 'openAcc', 'pubRec', 'pubRecBankruptcies', 'revolBal', 'revolUtil', 'totalAcc', 'title', 'n0', 'n1', 'n2', 'n3', 'n4', 'n5', 'n6', 'n7', 'n8', 'n9', 'n10', 'n13', 'n14']\n",
      "NoSerial (Discrete) Numerical Features: ['term', 'homeOwnership', 'verificationStatus', 'isDefault', 'initialListStatus', 'applicationType', 'policyCode', 'n11', 'n12']\n"
     ]
    },
    {
     "name": "stderr",
     "output_type": "stream",
     "text": [
      "\r",
      "                                                                                \r"
     ]
    }
   ],
   "source": [
    "def get_numerical_serial_fea(data, feas):\n",
    "    numerical_serial_fea = []\n",
    "    numerical_noserial_fea = []\n",
    "    \n",
    "    for fea in feas:\n",
    "        unique_count = data.agg(approx_count_distinct(col(fea)).alias('distinct_count')).collect()[0]['distinct_count']\n",
    "        \n",
    "        if unique_count <= 10:\n",
    "            numerical_noserial_fea.append(fea)\n",
    "        else:\n",
    "            numerical_serial_fea.append(fea)\n",
    "\n",
    "    return numerical_serial_fea, numerical_noserial_fea\n",
    "\n",
    "try:\n",
    "    numerical_serial_fea, numerical_noserial_fea = get_numerical_serial_fea(data_train, numeric_features)\n",
    "    print(\"Serial (Continuous) Numerical Features:\", numerical_serial_fea)\n",
    "    print(\"NoSerial (Discrete) Numerical Features:\", numerical_noserial_fea)\n",
    "except Exception as e:\n",
    "    print(\"An error occurred:\", e)"
   ]
  },
  {
   "cell_type": "code",
   "execution_count": 12,
   "id": "c87ab1a8",
   "metadata": {},
   "outputs": [
    {
     "name": "stderr",
     "output_type": "stream",
     "text": [
      "                                                                                \r"
     ]
    },
    {
     "name": "stdout",
     "output_type": "stream",
     "text": [
      "+----+------+\n",
      "|term| count|\n",
      "+----+------+\n",
      "|   3|606902|\n",
      "|   5|193098|\n",
      "+----+------+\n",
      "\n"
     ]
    },
    {
     "name": "stderr",
     "output_type": "stream",
     "text": [
      "                                                                                \r"
     ]
    },
    {
     "name": "stdout",
     "output_type": "stream",
     "text": [
      "+-------------+------+\n",
      "|homeOwnership| count|\n",
      "+-------------+------+\n",
      "|            1|317660|\n",
      "|            3|   185|\n",
      "|            5|    81|\n",
      "|            4|    33|\n",
      "|            2| 86309|\n",
      "|            0|395732|\n",
      "+-------------+------+\n",
      "\n"
     ]
    },
    {
     "name": "stderr",
     "output_type": "stream",
     "text": [
      "                                                                                \r"
     ]
    },
    {
     "name": "stdout",
     "output_type": "stream",
     "text": [
      "+------------------+------+\n",
      "|verificationStatus| count|\n",
      "+------------------+------+\n",
      "|                 1|309810|\n",
      "|                 2|248968|\n",
      "|                 0|241222|\n",
      "+------------------+------+\n",
      "\n"
     ]
    },
    {
     "name": "stderr",
     "output_type": "stream",
     "text": [
      "                                                                                \r"
     ]
    },
    {
     "name": "stdout",
     "output_type": "stream",
     "text": [
      "+-----------------+------+\n",
      "|initialListStatus| count|\n",
      "+-----------------+------+\n",
      "|                1|333562|\n",
      "|                0|466438|\n",
      "+-----------------+------+\n",
      "\n"
     ]
    },
    {
     "name": "stderr",
     "output_type": "stream",
     "text": [
      "                                                                                \r"
     ]
    },
    {
     "name": "stdout",
     "output_type": "stream",
     "text": [
      "+---------------+------+\n",
      "|applicationType| count|\n",
      "+---------------+------+\n",
      "|              1| 15414|\n",
      "|              0|784586|\n",
      "+---------------+------+\n",
      "\n"
     ]
    },
    {
     "name": "stderr",
     "output_type": "stream",
     "text": [
      "                                                                                \r"
     ]
    },
    {
     "name": "stdout",
     "output_type": "stream",
     "text": [
      "+----------+------+\n",
      "|policyCode| count|\n",
      "+----------+------+\n",
      "|       1.0|800000|\n",
      "+----------+------+\n",
      "\n"
     ]
    },
    {
     "name": "stderr",
     "output_type": "stream",
     "text": [
      "                                                                                \r"
     ]
    },
    {
     "name": "stdout",
     "output_type": "stream",
     "text": [
      "+----+------+\n",
      "| n11| count|\n",
      "+----+------+\n",
      "| 0.0|729682|\n",
      "|null| 69752|\n",
      "| 1.0|   540|\n",
      "| 4.0|     1|\n",
      "| 3.0|     1|\n",
      "| 2.0|    24|\n",
      "+----+------+\n",
      "\n"
     ]
    },
    {
     "name": "stderr",
     "output_type": "stream",
     "text": [
      "\r",
      "[Stage 171:>                                                        (0 + 2) / 2]\r"
     ]
    },
    {
     "name": "stdout",
     "output_type": "stream",
     "text": [
      "+----+------+\n",
      "| n12| count|\n",
      "+----+------+\n",
      "| 0.0|757315|\n",
      "|null| 40270|\n",
      "| 1.0|  2281|\n",
      "| 4.0|     3|\n",
      "| 3.0|    16|\n",
      "| 2.0|   115|\n",
      "+----+------+\n",
      "\n"
     ]
    },
    {
     "name": "stderr",
     "output_type": "stream",
     "text": [
      "\r",
      "                                                                                \r"
     ]
    }
   ],
   "source": [
    "# count the value \n",
    "term_counts = data_train.groupBy(\"term\").count()\n",
    "term_counts.show()\n",
    "\n",
    "homeOwnership_counts = data_train.groupBy(\"homeOwnership\").count()\n",
    "homeOwnership_counts.show()\n",
    "\n",
    "verificationStatus_counts = data_train.groupBy(\"verificationStatus\").count()\n",
    "verificationStatus_counts.show()\n",
    "\n",
    "initialListStatus_counts = data_train.groupBy(\"initialListStatus\").count()\n",
    "initialListStatus_counts.show()\n",
    "\n",
    "applicationType_counts = data_train.groupBy(\"applicationType\").count()\n",
    "applicationType_counts.show()\n",
    "\n",
    "policyCode_counts = data_train.groupBy(\"policyCode\").count()\n",
    "policyCode_counts.show()\n",
    "\n",
    "n11_counts = data_train.groupBy(\"n11\").count()\n",
    "n11_counts.show()\n",
    "\n",
    "n12_counts = data_train.groupBy(\"n12\").count()\n",
    "n12_counts.show()"
   ]
  },
  {
   "cell_type": "code",
   "execution_count": null,
   "id": "16b09cc5",
   "metadata": {},
   "outputs": [],
   "source": []
  }
 ],
 "metadata": {
  "kernelspec": {
   "display_name": "Python 3 (ipykernel)",
   "language": "python",
   "name": "python3"
  },
  "language_info": {
   "codemirror_mode": {
    "name": "ipython",
    "version": 3
   },
   "file_extension": ".py",
   "mimetype": "text/x-python",
   "name": "python",
   "nbconvert_exporter": "python",
   "pygments_lexer": "ipython3",
   "version": "3.10.12"
  }
 },
 "nbformat": 4,
 "nbformat_minor": 5
}
