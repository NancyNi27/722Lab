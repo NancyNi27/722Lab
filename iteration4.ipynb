{
  "cells": [
    {
      "cell_type": "markdown",
      "metadata": {
        "id": "view-in-github",
        "colab_type": "text"
      },
      "source": [
        "<a href=\"https://colab.research.google.com/github/NancyNi27/722Lab/blob/main/iteration4.ipynb\" target=\"_parent\"><img src=\"https://colab.research.google.com/assets/colab-badge.svg\" alt=\"Open In Colab\"/></a>"
      ]
    },
    {
      "cell_type": "code",
      "execution_count": null,
      "id": "0117833e",
      "metadata": {
        "colab": {
          "base_uri": "https://localhost:8080/"
        },
        "id": "0117833e",
        "outputId": "01643c99-7042-4d04-871d-18e1d8867c3c"
      },
      "outputs": [
        {
          "output_type": "stream",
          "name": "stdout",
          "text": [
            "Requirement already satisfied: pyspark in /usr/local/lib/python3.10/dist-packages (3.5.1)\n",
            "Requirement already satisfied: py4j==0.10.9.7 in /usr/local/lib/python3.10/dist-packages (from pyspark) (0.10.9.7)\n"
          ]
        }
      ],
      "source": [
        "## import libraries and initialize spark session\n",
        "!pip install pyspark\n",
        "from pyspark.sql import SparkSession\n",
        "from pyspark.sql import functions as F\n",
        "from pyspark.ml.feature import VectorAssembler\n",
        "from pyspark.ml.regression import LinearRegression\n",
        "from pyspark.ml.stat import Correlation\n",
        "from pyspark.ml.evaluation import RegressionEvaluator\n",
        "from pyspark.sql.types import DoubleType, IntegerType\n",
        "from pyspark.sql import SparkSession\n",
        "from pyspark.sql.functions import col, isnan, when, count, desc, approx_count_distinct, countDistinct,log, sqrt\n",
        "from pyspark.sql import functions as F\n",
        "\n",
        "import seaborn as sns\n",
        "import matplotlib.pyplot as plt\n",
        "\n",
        "import pandas as pd\n",
        "import numpy as np\n",
        "import datetime\n",
        "import plotly.figure_factory as ff\n",
        "import plotly.offline as pyo"
      ]
    },
    {
      "cell_type": "code",
      "execution_count": null,
      "id": "9a302a94",
      "metadata": {
        "id": "9a302a94"
      },
      "outputs": [],
      "source": [
        "#initialize spark session\n",
        "spark = SparkSession.builder \\\n",
        "    .appName(\"Data Exploration with PySpark\") \\\n",
        "    .getOrCreate()"
      ]
    },
    {
      "cell_type": "code",
      "execution_count": null,
      "id": "23884275",
      "metadata": {
        "id": "23884275"
      },
      "outputs": [],
      "source": [
        "##Load Data\n",
        "data_train = \"/content/train.csv\"\n",
        "data_testA = \"/content/testA.csv\"\n",
        "\n",
        "data_train = spark.read.csv(data_train, header=True, inferSchema=True)\n",
        "data_testA = spark.read.csv(data_testA, header=True, inferSchema=True)"
      ]
    },
    {
      "cell_type": "code",
      "execution_count": null,
      "id": "6dad2e11",
      "metadata": {
        "colab": {
          "base_uri": "https://localhost:8080/"
        },
        "id": "6dad2e11",
        "outputId": "10e7f35a-c025-40e6-fca1-e4396344890b"
      },
      "outputs": [
        {
          "output_type": "stream",
          "name": "stdout",
          "text": [
            "root\n",
            " |-- id: integer (nullable = true)\n",
            " |-- loanAmnt: double (nullable = true)\n",
            " |-- term: integer (nullable = true)\n",
            " |-- interestRate: double (nullable = true)\n",
            " |-- installment: double (nullable = true)\n",
            " |-- grade: string (nullable = true)\n",
            " |-- subGrade: string (nullable = true)\n",
            " |-- employmentTitle: double (nullable = true)\n",
            " |-- employmentLength: string (nullable = true)\n",
            " |-- homeOwnership: integer (nullable = true)\n",
            " |-- annualIncome: double (nullable = true)\n",
            " |-- verificationStatus: integer (nullable = true)\n",
            " |-- issueDate: date (nullable = true)\n",
            " |-- isDefault: integer (nullable = true)\n",
            " |-- purpose: integer (nullable = true)\n",
            " |-- postCode: double (nullable = true)\n",
            " |-- regionCode: integer (nullable = true)\n",
            " |-- dti: double (nullable = true)\n",
            " |-- delinquency_2years: double (nullable = true)\n",
            " |-- ficoRangeLow: double (nullable = true)\n",
            " |-- ficoRangeHigh: double (nullable = true)\n",
            " |-- openAcc: double (nullable = true)\n",
            " |-- pubRec: double (nullable = true)\n",
            " |-- pubRecBankruptcies: double (nullable = true)\n",
            " |-- revolBal: double (nullable = true)\n",
            " |-- revolUtil: double (nullable = true)\n",
            " |-- totalAcc: double (nullable = true)\n",
            " |-- initialListStatus: integer (nullable = true)\n",
            " |-- applicationType: integer (nullable = true)\n",
            " |-- earliesCreditLine: string (nullable = true)\n",
            " |-- title: double (nullable = true)\n",
            " |-- policyCode: double (nullable = true)\n",
            " |-- n0: double (nullable = true)\n",
            " |-- n1: double (nullable = true)\n",
            " |-- n2: double (nullable = true)\n",
            " |-- n3: double (nullable = true)\n",
            " |-- n4: double (nullable = true)\n",
            " |-- n5: double (nullable = true)\n",
            " |-- n6: double (nullable = true)\n",
            " |-- n7: double (nullable = true)\n",
            " |-- n8: double (nullable = true)\n",
            " |-- n9: double (nullable = true)\n",
            " |-- n10: double (nullable = true)\n",
            " |-- n11: double (nullable = true)\n",
            " |-- n12: double (nullable = true)\n",
            " |-- n13: double (nullable = true)\n",
            " |-- n14: double (nullable = true)\n",
            "\n",
            "+---+--------+----+------------+-----------+-----+--------+---------------+----------------+-------------+------------+------------------+----------+---------+-------+--------+----------+-----+------------------+------------+-------------+-------+------+------------------+--------+---------+--------+-----------------+---------------+-----------------+------+----------+----+----+----+----+----+----+----+----+----+----+----+----+----+----+----+\n",
            "| id|loanAmnt|term|interestRate|installment|grade|subGrade|employmentTitle|employmentLength|homeOwnership|annualIncome|verificationStatus| issueDate|isDefault|purpose|postCode|regionCode|  dti|delinquency_2years|ficoRangeLow|ficoRangeHigh|openAcc|pubRec|pubRecBankruptcies|revolBal|revolUtil|totalAcc|initialListStatus|applicationType|earliesCreditLine| title|policyCode|  n0|  n1|  n2|  n3|  n4|  n5|  n6|  n7|  n8|  n9| n10| n11| n12| n13| n14|\n",
            "+---+--------+----+------------+-----------+-----+--------+---------------+----------------+-------------+------------+------------------+----------+---------+-------+--------+----------+-----+------------------+------------+-------------+-------+------+------------------+--------+---------+--------+-----------------+---------------+-----------------+------+----------+----+----+----+----+----+----+----+----+----+----+----+----+----+----+----+\n",
            "|  0| 35000.0|   5|       19.52|     917.97|    E|      E2|          320.0|         2 years|            2|    110000.0|                 2|2014-07-01|        1|      1|   137.0|        32|17.05|               0.0|       730.0|        734.0|    7.0|   0.0|               0.0| 24178.0|     48.9|    27.0|                0|              0|         Aug-2001|   1.0|       1.0| 0.0| 2.0| 2.0| 2.0| 4.0| 9.0| 8.0| 4.0|12.0| 2.0| 7.0| 0.0| 0.0| 0.0| 2.0|\n",
            "|  1| 18000.0|   5|       18.49|      461.9|    D|      D2|       219843.0|         5 years|            0|     46000.0|                 2|2012-08-01|        0|      0|   156.0|        18|27.83|               0.0|       700.0|        704.0|   13.0|   0.0|               0.0| 15096.0|     38.9|    18.0|                1|              0|         May-2002|1723.0|       1.0|NULL|NULL|NULL|NULL|10.0|NULL|NULL|NULL|NULL|NULL|13.0|NULL|NULL|NULL|NULL|\n",
            "|  2| 12000.0|   5|       16.99|     298.17|    D|      D3|        31698.0|         8 years|            0|     74000.0|                 2|2015-10-01|        0|      0|   337.0|        14|22.77|               0.0|       675.0|        679.0|   11.0|   0.0|               0.0|  4606.0|     51.8|    27.0|                0|              0|         May-2006|   0.0|       1.0| 0.0| 0.0| 3.0| 3.0| 0.0| 0.0|21.0| 4.0| 5.0| 3.0|11.0| 0.0| 0.0| 0.0| 4.0|\n",
            "|  3| 11000.0|   3|        7.26|     340.96|    A|      A4|        46854.0|       10+ years|            1|    118000.0|                 1|2015-08-01|        0|      4|   148.0|        11|17.21|               0.0|       685.0|        689.0|    9.0|   0.0|               0.0|  9948.0|     52.6|    28.0|                1|              0|         May-1999|   4.0|       1.0| 6.0| 4.0| 6.0| 6.0| 4.0|16.0| 4.0| 7.0|21.0| 6.0| 9.0| 0.0| 0.0| 0.0| 1.0|\n",
            "|  4|  3000.0|   3|       12.99|     101.07|    C|      C2|           54.0|            NULL|            1|     29000.0|                 2|2016-03-01|        0|     10|   301.0|        21|32.16|               0.0|       690.0|        694.0|   12.0|   0.0|               0.0|  2942.0|     32.0|    27.0|                0|              0|         Aug-1977|  11.0|       1.0| 1.0| 2.0| 7.0| 7.0| 2.0| 4.0| 9.0|10.0|15.0| 7.0|12.0| 0.0| 0.0| 0.0| 4.0|\n",
            "+---+--------+----+------------+-----------+-----+--------+---------------+----------------+-------------+------------+------------------+----------+---------+-------+--------+----------+-----+------------------+------------+-------------+-------+------+------------------+--------+---------+--------+-----------------+---------------+-----------------+------+----------+----+----+----+----+----+----+----+----+----+----+----+----+----+----+----+\n",
            "only showing top 5 rows\n",
            "\n",
            "Train data shape: (800000, 47)\n",
            "TestA data shape: (200000, 46)\n",
            "+-------+-----------------+-----------------+------------------+------------------+----------------+------+--------+------------------+----------------+------------------+-----------------+------------------+------------------+-----------------+-----------------+------------------+------------------+------------------+-----------------+-----------------+-----------------+------------------+-------------------+------------------+------------------+----------------+------------------+------------------+-----------------+------------------+----------+------------------+-----------------+------------------+------------------+-----------------+-----------------+-----------------+-----------------+------------------+------------------+------------------+--------------------+--------------------+-------------------+------------------+\n",
            "|summary|               id|         loanAmnt|              term|      interestRate|     installment| grade|subGrade|   employmentTitle|employmentLength|     homeOwnership|     annualIncome|verificationStatus|         isDefault|          purpose|         postCode|        regionCode|               dti|delinquency_2years|     ficoRangeLow|    ficoRangeHigh|          openAcc|            pubRec| pubRecBankruptcies|          revolBal|         revolUtil|        totalAcc| initialListStatus|   applicationType|earliesCreditLine|             title|policyCode|                n0|               n1|                n2|                n3|               n4|               n5|               n6|               n7|                n8|                n9|               n10|                 n11|                 n12|                n13|               n14|\n",
            "+-------+-----------------+-----------------+------------------+------------------+----------------+------+--------+------------------+----------------+------------------+-----------------+------------------+------------------+-----------------+-----------------+------------------+------------------+------------------+-----------------+-----------------+-----------------+------------------+-------------------+------------------+------------------+----------------+------------------+------------------+-----------------+------------------+----------+------------------+-----------------+------------------+------------------+-----------------+-----------------+-----------------+-----------------+------------------+------------------+------------------+--------------------+--------------------+-------------------+------------------+\n",
            "|  count|           800000|           800000|            800000|            800000|          800000|800000|  800000|            799999|          753201|            800000|           800000|            800000|            800000|           800000|           799999|            800000|            799761|            800000|           800000|           800000|           800000|            800000|             799595|            800000|            799469|          800000|            800000|            800000|           800000|            799999|    800000|            759730|           759730|            759730|            759730|           766761|           759730|           759730|           759730|            759729|            759730|            766761|              730248|              759730|             759730|            759730|\n",
            "|   mean|         399999.5|     14416.818875|          3.482745|13.238391287537128|437.947723250041|  NULL|    NULL| 72005.35171418964|            NULL|         0.6142125|76133.91049318721|         1.0096825|         0.1995125|        1.7459825|258.5356481695602|        16.3857575|18.284557286489655|        0.31823875|     696.20408125|     700.20422625|         11.59802|          0.214915|0.13416291997823898|      16228.706505|51.790733812066996|     24.99886125|         0.4169525|         0.0192675|             NULL|1754.1135888919862|       1.0|0.5119318705329525|3.642329511800245|5.6426480460163475|5.6426480460163475|4.735641223275571| 8.10793703026075|8.575994103168231| 8.28295315441012|14.622487755502291| 5.592344648756796|11.643895555459915|8.147916872076336E-4|0.003384096981822...|0.08936595895910389|2.1786055572374394|\n",
            "| stddev|230940.2520133725|8716.086178046953|0.8558318646411991| 4.765756555334487|261.460393264052|  NULL|    NULL|106585.64020390106|            NULL|0.6757485298828567|68947.51367204753|0.7827161139259818|0.3996341601741248|2.367452663884516|200.0374463727893|11.036679229349398|11.150154831354344|0.8803245519196747|31.86599463213761|31.86667396740625|5.475286481368183|0.6064668189831172|0.37747083860116837|22458.020544102666| 24.51612601411526|11.9992005954258|0.4930551861840844|0.1374637663681206|             NULL| 7941.474040251565|       0.0|1.3332657109243142|2.246825302368939| 3.302810083238519| 3.302810083238519|2.949968517141036|4.799209861536485|7.400535995017739|4.561689058027413| 8.124610142271306|3.2161842088002928| 5.484103594436225|0.030075061009522026| 0.06204139749356596| 0.5090688319759835|1.8443771316117048|\n",
            "|    min|                0|            500.0|                 3|              5.31|           15.69|     A|      A1|               0.0|          1 year|                 0|              0.0|                 0|                 0|                0|              0.0|                 0|              -1.0|               0.0|            630.0|            634.0|              0.0|               0.0|                0.0|               0.0|               0.0|             2.0|                 0|                 0|         Apr-1955|               0.0|       1.0|               0.0|              0.0|               0.0|               0.0|              0.0|              0.0|              0.0|              0.0|               1.0|               0.0|               0.0|                 0.0|                 0.0|                0.0|               0.0|\n",
            "|    max|           799999|          40000.0|                 5|             30.99|         1715.42|     G|      G5|          378351.0|        < 1 year|                 5|        1.09992E7|                 2|                 1|               13|            940.0|                50|             999.0|              39.0|            845.0|            850.0|             86.0|              86.0|               12.0|         2904836.0|             892.3|           162.0|                 1|                 1|         Sep-2015|           61680.0|       1.0|              51.0|             33.0|              63.0|              63.0|             49.0|             70.0|            132.0|             79.0|             128.0|              45.0|              82.0|                 4.0|                 4.0|               39.0|              30.0|\n",
            "+-------+-----------------+-----------------+------------------+------------------+----------------+------+--------+------------------+----------------+------------------+-----------------+------------------+------------------+-----------------+-----------------+------------------+------------------+------------------+-----------------+-----------------+-----------------+------------------+-------------------+------------------+------------------+----------------+------------------+------------------+-----------------+------------------+----------+------------------+-----------------+------------------+------------------+-----------------+-----------------+-----------------+-----------------+------------------+------------------+------------------+--------------------+--------------------+-------------------+------------------+\n",
            "\n"
          ]
        }
      ],
      "source": [
        "## Data Preprocessing\n",
        "\n",
        "#check training dataset structure\n",
        "data_train.printSchema()\n",
        "data_train.show(5)\n",
        "\n",
        "#check the size\n",
        "print(\"Train data shape:\",(data_train.count(),len(data_train.columns)))\n",
        "print(\"TestA data shape:\",(data_testA.count(),len(data_testA.columns)))\n",
        "\n",
        "data_train.describe().show()\n"
      ]
    },
    {
      "cell_type": "code",
      "execution_count": null,
      "id": "41737795",
      "metadata": {
        "colab": {
          "base_uri": "https://localhost:8080/",
          "height": 847
        },
        "id": "41737795",
        "outputId": "c3df71bd-d7db-4b1a-a05f-502f49dffd5a"
      },
      "outputs": [
        {
          "output_type": "display_data",
          "data": {
            "text/plain": [
              "<Figure size 1200x800 with 1 Axes>"
            ],
            "image/png": "[encoded data removed]"
          },
          "metadata": {}
        }
      ],
      "source": [
        "# visualize the NAN\n",
        "# caclulate the missing ration\n",
        "def calculate_missing_ratio(df):\n",
        "    total_count = df.count()\n",
        "    missing_ratio = df.select([((count(when(col(c).isNull(), c)) / total_count).alias(c)) for c in df.columns])\n",
        "    return missing_ratio\n",
        "\n",
        "# get the proportion of missing values\n",
        "missing_ratio_df = calculate_missing_ratio(data_train)\n",
        "\n",
        "# transform into pandas dataframe\n",
        "missing_ratio_pd = missing_ratio_df.toPandas()\n",
        "missing_ratio_pd = missing_ratio_pd.transpose()\n",
        "missing_ratio_pd.columns = ['missing_ratio']\n",
        "missing_ratio_pd = missing_ratio_pd[missing_ratio_pd['missing_ratio'] > 0]\n",
        "missing_ratio_pd.sort_values(by='missing_ratio', ascending=False, inplace=True)\n",
        "\n",
        "# plot a bar chart\n",
        "plt.figure(figsize=(12, 8))\n",
        "missing_ratio_pd['missing_ratio'].plot(kind='bar', color='skyblue')\n",
        "plt.title('Proportion of Missing Values by Column')\n",
        "plt.xlabel('Columns')\n",
        "plt.ylabel('Proportion of Missing Values')\n",
        "plt.show()"
      ]
    },
    {
      "cell_type": "code",
      "execution_count": null,
      "id": "cef0d69d",
      "metadata": {
        "colab": {
          "base_uri": "https://localhost:8080/"
        },
        "id": "cef0d69d",
        "outputId": "9ff9050b-2b82-4e3f-9550-caed483dd6b4"
      },
      "outputs": [
        {
          "output_type": "stream",
          "name": "stdout",
          "text": [
            "Numeric Features: ['id', 'loanAmnt', 'term', 'interestRate', 'installment', 'employmentTitle', 'homeOwnership', 'annualIncome', 'verificationStatus', 'isDefault', 'purpose', 'postCode', 'regionCode', 'dti', 'delinquency_2years', 'ficoRangeLow', 'ficoRangeHigh', 'openAcc', 'pubRec', 'pubRecBankruptcies', 'revolBal', 'revolUtil', 'totalAcc', 'initialListStatus', 'applicationType', 'title', 'policyCode', 'n0', 'n1', 'n2', 'n3', 'n4', 'n5', 'n6', 'n7', 'n8', 'n9', 'n10', 'n11', 'n12', 'n13', 'n14']\n",
            "Object Features: ['grade', 'subGrade', 'employmentLength', 'earliesCreditLine']\n"
          ]
        }
      ],
      "source": [
        "# Numeric and Object Type Characteristics\n",
        "numeric_features = [t[0] for t in data_train.dtypes if t[1] == 'int' or t[1] == 'double']\n",
        "object_features = [t[0] for t in data_train.dtypes if t[1] == 'string']\n",
        "\n",
        "print(\"Numeric Features:\", numeric_features)\n",
        "print(\"Object Features:\", object_features)"
      ]
    },
    {
      "cell_type": "code",
      "execution_count": null,
      "id": "cb7b04c0",
      "metadata": {
        "colab": {
          "base_uri": "https://localhost:8080/"
        },
        "id": "cb7b04c0",
        "outputId": "63655077-fcbf-476b-d4de-310d7cf05aea"
      },
      "outputs": [
        {
          "output_type": "stream",
          "name": "stdout",
          "text": [
            "+-----+\n",
            "|grade|\n",
            "+-----+\n",
            "|    E|\n",
            "|    D|\n",
            "|    D|\n",
            "|    A|\n",
            "|    C|\n",
            "+-----+\n",
            "only showing top 5 rows\n",
            "\n"
          ]
        }
      ],
      "source": [
        "data_train.select('grade').show(5)"
      ]
    },
    {
      "cell_type": "code",
      "execution_count": null,
      "id": "6bddae26",
      "metadata": {
        "colab": {
          "base_uri": "https://localhost:8080/"
        },
        "id": "6bddae26",
        "outputId": "4a4e172c-bce7-460c-bd6b-09affa6db39a"
      },
      "outputs": [
        {
          "output_type": "stream",
          "name": "stdout",
          "text": [
            "Serial (Continuous) Numerical Features: ['id', 'loanAmnt', 'interestRate', 'installment', 'employmentTitle', 'annualIncome', 'purpose', 'postCode', 'regionCode', 'dti', 'delinquency_2years', 'ficoRangeLow', 'ficoRangeHigh', 'openAcc', 'pubRec', 'pubRecBankruptcies', 'revolBal', 'revolUtil', 'totalAcc', 'title', 'n0', 'n1', 'n2', 'n3', 'n4', 'n5', 'n6', 'n7', 'n8', 'n9', 'n10', 'n13', 'n14']\n",
            "NoSerial (Discrete) Numerical Features: ['term', 'homeOwnership', 'verificationStatus', 'isDefault', 'initialListStatus', 'applicationType', 'policyCode', 'n11', 'n12']\n"
          ]
        }
      ],
      "source": [
        "def get_numerical_serial_fea(data, feas):\n",
        "    numerical_serial_fea = []\n",
        "    numerical_noserial_fea = []\n",
        "\n",
        "    for fea in feas:\n",
        "        unique_count = data.agg(approx_count_distinct(col(fea)).alias('distinct_count')).collect()[0]['distinct_count']\n",
        "\n",
        "        if unique_count <= 10:\n",
        "            numerical_noserial_fea.append(fea)\n",
        "        else:\n",
        "            numerical_serial_fea.append(fea)\n",
        "\n",
        "    return numerical_serial_fea, numerical_noserial_fea\n",
        "\n",
        "try:\n",
        "    numerical_serial_fea, numerical_noserial_fea = get_numerical_serial_fea(data_train, numeric_features)\n",
        "    print(\"Serial (Continuous) Numerical Features:\", numerical_serial_fea)\n",
        "    print(\"NoSerial (Discrete) Numerical Features:\", numerical_noserial_fea)\n",
        "except Exception as e:\n",
        "    print(\"An error occurred:\", e)"
      ]
    },
    {
      "cell_type": "code",
      "execution_count": null,
      "id": "c87ab1a8",
      "metadata": {
        "colab": {
          "base_uri": "https://localhost:8080/"
        },
        "id": "c87ab1a8",
        "outputId": "b231b1ae-23c6-4ab6-e14b-961c30de02a2"
      },
      "outputs": [
        {
          "output_type": "stream",
          "name": "stdout",
          "text": [
            "+----+------+\n",
            "|term| count|\n",
            "+----+------+\n",
            "|   3|606902|\n",
            "|   5|193098|\n",
            "+----+------+\n",
            "\n",
            "+-------------+------+\n",
            "|homeOwnership| count|\n",
            "+-------------+------+\n",
            "|            1|317660|\n",
            "|            3|   185|\n",
            "|            5|    81|\n",
            "|            4|    33|\n",
            "|            2| 86309|\n",
            "|            0|395732|\n",
            "+-------------+------+\n",
            "\n",
            "+------------------+------+\n",
            "|verificationStatus| count|\n",
            "+------------------+------+\n",
            "|                 1|309810|\n",
            "|                 2|248968|\n",
            "|                 0|241222|\n",
            "+------------------+------+\n",
            "\n",
            "+-----------------+------+\n",
            "|initialListStatus| count|\n",
            "+-----------------+------+\n",
            "|                1|333562|\n",
            "|                0|466438|\n",
            "+-----------------+------+\n",
            "\n",
            "+---------------+------+\n",
            "|applicationType| count|\n",
            "+---------------+------+\n",
            "|              1| 15414|\n",
            "|              0|784586|\n",
            "+---------------+------+\n",
            "\n",
            "+----------+------+\n",
            "|policyCode| count|\n",
            "+----------+------+\n",
            "|       1.0|800000|\n",
            "+----------+------+\n",
            "\n",
            "+----+------+\n",
            "| n11| count|\n",
            "+----+------+\n",
            "| 0.0|729682|\n",
            "|NULL| 69752|\n",
            "| 1.0|   540|\n",
            "| 4.0|     1|\n",
            "| 3.0|     1|\n",
            "| 2.0|    24|\n",
            "+----+------+\n",
            "\n",
            "+----+------+\n",
            "| n12| count|\n",
            "+----+------+\n",
            "| 0.0|757315|\n",
            "|NULL| 40270|\n",
            "| 1.0|  2281|\n",
            "| 4.0|     3|\n",
            "| 3.0|    16|\n",
            "| 2.0|   115|\n",
            "+----+------+\n",
            "\n"
          ]
        }
      ],
      "source": [
        "# count the value\n",
        "term_counts = data_train.groupBy(\"term\").count()\n",
        "term_counts.show()\n",
        "\n",
        "homeOwnership_counts = data_train.groupBy(\"homeOwnership\").count()\n",
        "homeOwnership_counts.show()\n",
        "\n",
        "verificationStatus_counts = data_train.groupBy(\"verificationStatus\").count()\n",
        "verificationStatus_counts.show()\n",
        "\n",
        "initialListStatus_counts = data_train.groupBy(\"initialListStatus\").count()\n",
        "initialListStatus_counts.show()\n",
        "\n",
        "applicationType_counts = data_train.groupBy(\"applicationType\").count()\n",
        "applicationType_counts.show()\n",
        "\n",
        "policyCode_counts = data_train.groupBy(\"policyCode\").count()\n",
        "policyCode_counts.show()\n",
        "\n",
        "n11_counts = data_train.groupBy(\"n11\").count()\n",
        "n11_counts.show()\n",
        "\n",
        "n12_counts = data_train.groupBy(\"n12\").count()\n",
        "n12_counts.show()"
      ]
    },
    {
      "cell_type": "code",
      "execution_count": null,
      "id": "16b09cc5",
      "metadata": {
        "colab": {
          "base_uri": "https://localhost:8080/"
        },
        "id": "16b09cc5",
        "outputId": "364a6177-0d0e-4780-c4d9-63a806b3d0f5"
      },
      "outputs": [
        {
          "output_type": "stream",
          "name": "stdout",
          "text": [
            "  summary        loanAmnt_log\n",
            "0   count              800000\n",
            "1    mean   9.366847213683226\n",
            "2  stddev  0.6963523395993501\n",
            "3     min   6.214608098422191\n",
            "4     25%   8.987196820661973\n",
            "5     50%   9.392661928770137\n",
            "6     75%   9.903487552536127\n",
            "7     max  10.596634733096073\n"
          ]
        }
      ],
      "source": [
        "from pyspark.sql.functions import col, log\n",
        "# caculate basisc statistics\n",
        "stats = data_train.select(log(col(\"loanAmnt\")).alias(\"loanAmnt_log\")).summary(\"count\",\"mean\",\"stddev\",\"min\",\"25%\",\"50%\",\"75%\",\"max\")\n",
        "#pandas dataframe\n",
        "stats_pd = stats.toPandas()\n",
        "print(stats_pd)"
      ]
    },
    {
      "cell_type": "code",
      "source": [
        "# calculate the object values\n",
        "grade_counts = data_train.groupBy(\"grade\").count().orderBy(\"grade\")\n",
        "subgrade_counts = data_train.groupBy(\"subGrade\").count().orderBy(\"subGrade\")\n",
        "employment_length_counts = data_train.groupBy(\"employmentLength\").count().orderBy(\"employmentLength\")\n",
        "issue_date_counts = data_train.groupBy(\"issueDate\").count().orderBy(\"issueDate\")\n",
        "earliesCreditLine_counts = data_train.groupBy(\"earliesCreditLine\").count().orderBy(\"earliesCreditLine\")\n",
        "isDefault_counts = data_train.groupBy(\"isDefault\").count().orderBy(\"isDefault\")\n",
        "\n",
        "grade_counts.show()\n",
        "subgrade_counts.show()\n",
        "employment_length_counts.show()\n",
        "issue_date_counts.show()\n",
        "earliesCreditLine_counts.show()\n",
        "isDefault_counts.show()"
      ],
      "metadata": {
        "colab": {
          "base_uri": "https://localhost:8080/"
        },
        "id": "Ns6QMRPEBxKf",
        "outputId": "d2c594ff-4b7e-48cf-c2b2-dddcbbb68d06"
      },
      "id": "Ns6QMRPEBxKf",
      "execution_count": null,
      "outputs": [
        {
          "output_type": "stream",
          "name": "stdout",
          "text": [
            "+-----+------+\n",
            "|grade| count|\n",
            "+-----+------+\n",
            "|    A|139661|\n",
            "|    B|233690|\n",
            "|    C|227118|\n",
            "|    D|119453|\n",
            "|    E| 55661|\n",
            "|    F| 19053|\n",
            "|    G|  5364|\n",
            "+-----+------+\n",
            "\n",
            "+--------+-----+\n",
            "|subGrade|count|\n",
            "+--------+-----+\n",
            "|      A1|25909|\n",
            "|      A2|22124|\n",
            "|      A3|22655|\n",
            "|      A4|30928|\n",
            "|      A5|38045|\n",
            "|      B1|42382|\n",
            "|      B2|44227|\n",
            "|      B3|48600|\n",
            "|      B4|49516|\n",
            "|      B5|48965|\n",
            "|      C1|50763|\n",
            "|      C2|47068|\n",
            "|      C3|44751|\n",
            "|      C4|44272|\n",
            "|      C5|40264|\n",
            "|      D1|30538|\n",
            "|      D2|26528|\n",
            "|      D3|23410|\n",
            "|      D4|21139|\n",
            "|      D5|17838|\n",
            "+--------+-----+\n",
            "only showing top 20 rows\n",
            "\n",
            "+----------------+------+\n",
            "|employmentLength| count|\n",
            "+----------------+------+\n",
            "|            NULL| 46799|\n",
            "|          1 year| 52489|\n",
            "|       10+ years|262753|\n",
            "|         2 years| 72358|\n",
            "|         3 years| 64152|\n",
            "|         4 years| 47985|\n",
            "|         5 years| 50102|\n",
            "|         6 years| 37254|\n",
            "|         7 years| 35407|\n",
            "|         8 years| 36192|\n",
            "|         9 years| 30272|\n",
            "|        < 1 year| 64237|\n",
            "+----------------+------+\n",
            "\n",
            "+----------+-----+\n",
            "| issueDate|count|\n",
            "+----------+-----+\n",
            "|2007-06-01|    1|\n",
            "|2007-07-01|   21|\n",
            "|2007-08-01|   23|\n",
            "|2007-09-01|    7|\n",
            "|2007-10-01|   26|\n",
            "|2007-11-01|   24|\n",
            "|2007-12-01|   55|\n",
            "|2008-01-01|   91|\n",
            "|2008-02-01|  105|\n",
            "|2008-03-01|  130|\n",
            "|2008-04-01|   92|\n",
            "|2008-05-01|   38|\n",
            "|2008-06-01|   33|\n",
            "|2008-07-01|   52|\n",
            "|2008-08-01|   38|\n",
            "|2008-09-01|   19|\n",
            "|2008-10-01|   62|\n",
            "|2008-11-01|  113|\n",
            "|2008-12-01|  134|\n",
            "|2009-01-01|  145|\n",
            "+----------+-----+\n",
            "only showing top 20 rows\n",
            "\n",
            "+-----------------+-----+\n",
            "|earliesCreditLine|count|\n",
            "+-----------------+-----+\n",
            "|         Apr-1955|    2|\n",
            "|         Apr-1958|    1|\n",
            "|         Apr-1960|    2|\n",
            "|         Apr-1961|    4|\n",
            "|         Apr-1962|    4|\n",
            "|         Apr-1963|   12|\n",
            "|         Apr-1964|   18|\n",
            "|         Apr-1965|   21|\n",
            "|         Apr-1966|   28|\n",
            "|         Apr-1967|   29|\n",
            "|         Apr-1968|   37|\n",
            "|         Apr-1969|   46|\n",
            "|         Apr-1970|   51|\n",
            "|         Apr-1971|   57|\n",
            "|         Apr-1972|   80|\n",
            "|         Apr-1973|   98|\n",
            "|         Apr-1974|  109|\n",
            "|         Apr-1975|  130|\n",
            "|         Apr-1976|  150|\n",
            "|         Apr-1977|  183|\n",
            "+-----------------+-----+\n",
            "only showing top 20 rows\n",
            "\n",
            "+---------+------+\n",
            "|isDefault| count|\n",
            "+---------+------+\n",
            "|        0|640390|\n",
            "|        1|159610|\n",
            "+---------+------+\n",
            "\n"
          ]
        }
      ]
    },
    {
      "cell_type": "code",
      "source": [
        "## Data Pre-Processing\n",
        "# NAN values\n",
        "from pyspark.sql.functions import col, sum as spark_sum, isnan, when, count\n",
        "missing_data = data_train.select(\n",
        "    [count(when(col(c).isNull(), c)).alias(c) for c in data_train.columns]\n",
        ")\n",
        "missing_data.show()"
      ],
      "metadata": {
        "colab": {
          "base_uri": "https://localhost:8080/"
        },
        "id": "BvIL4VRMCUCh",
        "outputId": "e1e11d5a-949c-42b7-8773-cfe06ab7630c"
      },
      "id": "BvIL4VRMCUCh",
      "execution_count": null,
      "outputs": [
        {
          "output_type": "stream",
          "name": "stdout",
          "text": [
            "+---+--------+----+------------+-----------+-----+--------+---------------+----------------+-------------+------------+------------------+---------+---------+-------+--------+----------+---+------------------+------------+-------------+-------+------+------------------+--------+---------+--------+-----------------+---------------+-----------------+-----+----------+-----+-----+-----+-----+-----+-----+-----+-----+-----+-----+-----+-----+-----+-----+-----+\n",
            "| id|loanAmnt|term|interestRate|installment|grade|subGrade|employmentTitle|employmentLength|homeOwnership|annualIncome|verificationStatus|issueDate|isDefault|purpose|postCode|regionCode|dti|delinquency_2years|ficoRangeLow|ficoRangeHigh|openAcc|pubRec|pubRecBankruptcies|revolBal|revolUtil|totalAcc|initialListStatus|applicationType|earliesCreditLine|title|policyCode|   n0|   n1|   n2|   n3|   n4|   n5|   n6|   n7|   n8|   n9|  n10|  n11|  n12|  n13|  n14|\n",
            "+---+--------+----+------------+-----------+-----+--------+---------------+----------------+-------------+------------+------------------+---------+---------+-------+--------+----------+---+------------------+------------+-------------+-------+------+------------------+--------+---------+--------+-----------------+---------------+-----------------+-----+----------+-----+-----+-----+-----+-----+-----+-----+-----+-----+-----+-----+-----+-----+-----+-----+\n",
            "|  0|       0|   0|           0|          0|    0|       0|              1|           46799|            0|           0|                 0|        0|        0|      0|       1|         0|239|                 0|           0|            0|      0|     0|               405|       0|      531|       0|                0|              0|                0|    1|         0|40270|40270|40270|40270|33239|40270|40270|40270|40271|40270|33239|69752|40270|40270|40270|\n",
            "+---+--------+----+------------+-----------+-----+--------+---------------+----------------+-------------+------------+------------------+---------+---------+-------+--------+----------+---+------------------+------------+-------------+-------+------+------------------+--------+---------+--------+-----------------+---------------+-----------------+-----+----------+-----+-----+-----+-----+-----+-----+-----+-----+-----+-----+-----+-----+-----+-----+-----+\n",
            "\n"
          ]
        }
      ]
    },
    {
      "cell_type": "code",
      "source": [
        "##fill the NAN\n",
        "from pyspark.sql.functions import col, lit, when\n",
        "\n",
        "# Add a default 'isDefault' column to the test set for structural consistency\n",
        "data_testA = data_testA.withColumn('isDefault', lit(-1))\n",
        "\n",
        "# Merge the datasets\n",
        "combined_data = data_train.unionByName(data_testA)\n",
        "\n",
        "# Fill in numeric features\n",
        "for col in numeric_features:\n",
        "    if col in combined_data.columns:\n",
        "        median_value = combined_data.approxQuantile(col, [0.5], 0.001)[0]\n",
        "        combined_data = combined_data.na.fill({col: median_value})\n",
        "\n",
        "# Fill in object features\n",
        "for col in object_features:\n",
        "    if col in combined_data.columns:\n",
        "        mode_value = combined_data.groupBy(col).count().orderBy('count', ascending=False).first()[0]\n",
        "        combined_data = combined_data.na.fill({col: mode_value})\n",
        "\n",
        "# Separate the datasets\n",
        "data_train = combined_data.where(combined_data['isDefault'] != -1)\n",
        "data_test_a = combined_data.where(combined_data['isDefault'] == -1).drop('isDefault')"
      ],
      "metadata": {
        "id": "vYXafY6BK4IS"
      },
      "id": "vYXafY6BK4IS",
      "execution_count": null,
      "outputs": []
    },
    {
      "cell_type": "code",
      "source": [
        "# recaculate the NAN\n",
        "from pyspark.sql.functions import col, count, when\n",
        "\n",
        "null_counts = data_train.select([(count(when(col(c).isNull(), c))).alias(c) for c in data_train.columns])\n",
        "\n",
        "null_counts.show()\n"
      ],
      "metadata": {
        "colab": {
          "base_uri": "https://localhost:8080/"
        },
        "id": "1J2qtweOctvh",
        "outputId": "0adc9bc9-9046-44a1-f827-9a3b553cc45d"
      },
      "id": "1J2qtweOctvh",
      "execution_count": null,
      "outputs": [
        {
          "output_type": "stream",
          "name": "stdout",
          "text": [
            "+---+--------+----+------------+-----------+-----+--------+---------------+----------------+-------------+------------+------------------+---------+---------+-------+--------+----------+---+------------------+------------+-------------+-------+------+------------------+--------+---------+--------+-----------------+---------------+-----------------+-----+----------+---+---+---+---+---+---+---+---+---+---+---+---+---+---+---+\n",
            "| id|loanAmnt|term|interestRate|installment|grade|subGrade|employmentTitle|employmentLength|homeOwnership|annualIncome|verificationStatus|issueDate|isDefault|purpose|postCode|regionCode|dti|delinquency_2years|ficoRangeLow|ficoRangeHigh|openAcc|pubRec|pubRecBankruptcies|revolBal|revolUtil|totalAcc|initialListStatus|applicationType|earliesCreditLine|title|policyCode| n0| n1| n2| n3| n4| n5| n6| n7| n8| n9|n10|n11|n12|n13|n14|\n",
            "+---+--------+----+------------+-----------+-----+--------+---------------+----------------+-------------+------------+------------------+---------+---------+-------+--------+----------+---+------------------+------------+-------------+-------+------+------------------+--------+---------+--------+-----------------+---------------+-----------------+-----+----------+---+---+---+---+---+---+---+---+---+---+---+---+---+---+---+\n",
            "|  0|       0|   0|           0|          0|    0|       0|              0|               0|            0|           0|                 0|        0|        0|      0|       0|         0|  0|                 0|           0|            0|      0|     0|                 0|       0|        0|       0|                0|              0|                0|    0|         0|  0|  0|  0|  0|  0|  0|  0|  0|  0|  0|  0|  0|  0|  0|  0|\n",
            "+---+--------+----+------------+-----------+-----+--------+---------------+----------------+-------------+------------+------------------+---------+---------+-------+--------+----------+---+------------------+------------+-------------+-------+------+------------------+--------+---------+--------+-----------------+---------------+-----------------+-----+----------+---+---+---+---+---+---+---+---+---+---+---+---+---+---+---+\n",
            "\n"
          ]
        }
      ]
    },
    {
      "cell_type": "code",
      "source": [],
      "metadata": {
        "id": "CYtrND4pbII9"
      },
      "id": "CYtrND4pbII9",
      "execution_count": null,
      "outputs": []
    }
  ],
  "metadata": {
    "kernelspec": {
      "display_name": "Python 3 (ipykernel)",
      "language": "python",
      "name": "python3"
    },
    "language_info": {
      "codemirror_mode": {
        "name": "ipython",
        "version": 3
      },
      "file_extension": ".py",
      "mimetype": "text/x-python",
      "name": "python",
      "nbconvert_exporter": "python",
      "pygments_lexer": "ipython3",
      "version": "3.10.12"
    },
    "colab": {
      "provenance": [],
      "include_colab_link": true
    }
  },
  "nbformat": 4,
  "nbformat_minor": 5
}