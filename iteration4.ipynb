{
  "cells": [
    {
      "cell_type": "markdown",
      "metadata": {
        "id": "view-in-github",
        "colab_type": "text"
      },
      "source": [
        "<a href=\"https://colab.research.google.com/github/NancyNi27/722Lab/blob/main/iteration4.ipynb\" target=\"_parent\"><img src=\"https://colab.research.google.com/assets/colab-badge.svg\" alt=\"Open In Colab\"/></a>"
      ]
    },
    {
      "cell_type": "code",
      "execution_count": 2,
      "id": "0117833e",
      "metadata": {
        "id": "0117833e"
      },
      "outputs": [],
      "source": [
        "## import libraries and initialize spark session\n",
        "from pyspark.sql import SparkSession\n",
        "from pyspark.sql import functions as F\n",
        "from pyspark.ml.feature import VectorAssembler\n",
        "from pyspark.ml.regression import LinearRegression\n",
        "from pyspark.ml.stat import Correlation\n",
        "from pyspark.ml.evaluation import RegressionEvaluator\n",
        "from pyspark.sql.types import DoubleType, IntegerType\n",
        "from pyspark.sql import SparkSession\n",
        "from pyspark.sql.functions import col, isnan, when, count, desc, approx_count_distinct, countDistinct,log, sqrt\n",
        "from pyspark.sql import functions as F\n",
        "\n",
        "import seaborn as sns\n",
        "import matplotlib.pyplot as plt\n",
        "\n",
        "import pandas as pd\n",
        "import numpy as np\n",
        "import datetime\n",
        "import plotly.figure_factory as ff\n",
        "import plotly.offline as pyo"
      ]
    },
    {
      "cell_type": "code",
      "execution_count": 3,
      "id": "9a302a94",
      "metadata": {
        "id": "9a302a94"
      },
      "outputs": [],
      "source": [
        "#initialize spark session\n",
        "spark = SparkSession.builder \\\n",
        "    .appName(\"Data Exploration with PySpark\") \\\n",
        "    .getOrCreate()"
      ]
    },
    {
      "cell_type": "code",
      "execution_count": 4,
      "id": "23884275",
      "metadata": {
        "id": "23884275"
      },
      "outputs": [],
      "source": [
        "##Load Data\n",
        "data_train = \"/content/train.csv\"\n",
        "data_testA = \"/content/testA.csv\"\n",
        "\n",
        "data_train = spark.read.csv(data_train, header=True, inferSchema=True)\n",
        "data_testA = spark.read.csv(data_testA, header=True, inferSchema=True)"
      ]
    },
    {
      "cell_type": "code",
      "execution_count": 5,
      "id": "6dad2e11",
      "metadata": {
        "colab": {
          "base_uri": "https://localhost:8080/"
        },
        "id": "6dad2e11",
        "outputId": "f08f1f8b-edc2-433f-deea-fda07c608060"
      },
      "outputs": [
        {
          "output_type": "stream",
          "name": "stdout",
          "text": [
            "root\n",
            " |-- id: integer (nullable = true)\n",
            " |-- loanAmnt: double (nullable = true)\n",
            " |-- term: integer (nullable = true)\n",
            " |-- interestRate: double (nullable = true)\n",
            " |-- installment: double (nullable = true)\n",
            " |-- grade: string (nullable = true)\n",
            " |-- subGrade: string (nullable = true)\n",
            " |-- employmentTitle: double (nullable = true)\n",
            " |-- employmentLength: string (nullable = true)\n",
            " |-- homeOwnership: integer (nullable = true)\n",
            " |-- annualIncome: double (nullable = true)\n",
            " |-- verificationStatus: integer (nullable = true)\n",
            " |-- issueDate: date (nullable = true)\n",
            " |-- isDefault: integer (nullable = true)\n",
            " |-- purpose: integer (nullable = true)\n",
            " |-- postCode: double (nullable = true)\n",
            " |-- regionCode: integer (nullable = true)\n",
            " |-- dti: double (nullable = true)\n",
            " |-- delinquency_2years: double (nullable = true)\n",
            " |-- ficoRangeLow: double (nullable = true)\n",
            " |-- ficoRangeHigh: double (nullable = true)\n",
            " |-- openAcc: double (nullable = true)\n",
            " |-- pubRec: double (nullable = true)\n",
            " |-- pubRecBankruptcies: double (nullable = true)\n",
            " |-- revolBal: double (nullable = true)\n",
            " |-- revolUtil: double (nullable = true)\n",
            " |-- totalAcc: double (nullable = true)\n",
            " |-- initialListStatus: integer (nullable = true)\n",
            " |-- applicationType: integer (nullable = true)\n",
            " |-- earliesCreditLine: string (nullable = true)\n",
            " |-- title: double (nullable = true)\n",
            " |-- policyCode: double (nullable = true)\n",
            " |-- n0: double (nullable = true)\n",
            " |-- n1: double (nullable = true)\n",
            " |-- n2: double (nullable = true)\n",
            " |-- n3: double (nullable = true)\n",
            " |-- n4: double (nullable = true)\n",
            " |-- n5: double (nullable = true)\n",
            " |-- n6: double (nullable = true)\n",
            " |-- n7: double (nullable = true)\n",
            " |-- n8: double (nullable = true)\n",
            " |-- n9: double (nullable = true)\n",
            " |-- n10: double (nullable = true)\n",
            " |-- n11: double (nullable = true)\n",
            " |-- n12: double (nullable = true)\n",
            " |-- n13: double (nullable = true)\n",
            " |-- n14: double (nullable = true)\n",
            "\n",
            "+---+--------+----+------------+-----------+-----+--------+---------------+----------------+-------------+------------+------------------+----------+---------+-------+--------+----------+-----+------------------+------------+-------------+-------+------+------------------+--------+---------+--------+-----------------+---------------+-----------------+------+----------+----+----+----+----+----+----+----+----+----+----+----+----+----+----+----+\n",
            "| id|loanAmnt|term|interestRate|installment|grade|subGrade|employmentTitle|employmentLength|homeOwnership|annualIncome|verificationStatus| issueDate|isDefault|purpose|postCode|regionCode|  dti|delinquency_2years|ficoRangeLow|ficoRangeHigh|openAcc|pubRec|pubRecBankruptcies|revolBal|revolUtil|totalAcc|initialListStatus|applicationType|earliesCreditLine| title|policyCode|  n0|  n1|  n2|  n3|  n4|  n5|  n6|  n7|  n8|  n9| n10| n11| n12| n13| n14|\n",
            "+---+--------+----+------------+-----------+-----+--------+---------------+----------------+-------------+------------+------------------+----------+---------+-------+--------+----------+-----+------------------+------------+-------------+-------+------+------------------+--------+---------+--------+-----------------+---------------+-----------------+------+----------+----+----+----+----+----+----+----+----+----+----+----+----+----+----+----+\n",
            "|  0| 35000.0|   5|       19.52|     917.97|    E|      E2|          320.0|         2 years|            2|    110000.0|                 2|2014-07-01|        1|      1|   137.0|        32|17.05|               0.0|       730.0|        734.0|    7.0|   0.0|               0.0| 24178.0|     48.9|    27.0|                0|              0|         Aug-2001|   1.0|       1.0| 0.0| 2.0| 2.0| 2.0| 4.0| 9.0| 8.0| 4.0|12.0| 2.0| 7.0| 0.0| 0.0| 0.0| 2.0|\n",
            "|  1| 18000.0|   5|       18.49|      461.9|    D|      D2|       219843.0|         5 years|            0|     46000.0|                 2|2012-08-01|        0|      0|   156.0|        18|27.83|               0.0|       700.0|        704.0|   13.0|   0.0|               0.0| 15096.0|     38.9|    18.0|                1|              0|         May-2002|1723.0|       1.0|NULL|NULL|NULL|NULL|10.0|NULL|NULL|NULL|NULL|NULL|13.0|NULL|NULL|NULL|NULL|\n",
            "|  2| 12000.0|   5|       16.99|     298.17|    D|      D3|        31698.0|         8 years|            0|     74000.0|                 2|2015-10-01|        0|      0|   337.0|        14|22.77|               0.0|       675.0|        679.0|   11.0|   0.0|               0.0|  4606.0|     51.8|    27.0|                0|              0|         May-2006|   0.0|       1.0| 0.0| 0.0| 3.0| 3.0| 0.0| 0.0|21.0| 4.0| 5.0| 3.0|11.0| 0.0| 0.0| 0.0| 4.0|\n",
            "|  3| 11000.0|   3|        7.26|     340.96|    A|      A4|        46854.0|       10+ years|            1|    118000.0|                 1|2015-08-01|        0|      4|   148.0|        11|17.21|               0.0|       685.0|        689.0|    9.0|   0.0|               0.0|  9948.0|     52.6|    28.0|                1|              0|         May-1999|   4.0|       1.0| 6.0| 4.0| 6.0| 6.0| 4.0|16.0| 4.0| 7.0|21.0| 6.0| 9.0| 0.0| 0.0| 0.0| 1.0|\n",
            "|  4|  3000.0|   3|       12.99|     101.07|    C|      C2|           54.0|            NULL|            1|     29000.0|                 2|2016-03-01|        0|     10|   301.0|        21|32.16|               0.0|       690.0|        694.0|   12.0|   0.0|               0.0|  2942.0|     32.0|    27.0|                0|              0|         Aug-1977|  11.0|       1.0| 1.0| 2.0| 7.0| 7.0| 2.0| 4.0| 9.0|10.0|15.0| 7.0|12.0| 0.0| 0.0| 0.0| 4.0|\n",
            "+---+--------+----+------------+-----------+-----+--------+---------------+----------------+-------------+------------+------------------+----------+---------+-------+--------+----------+-----+------------------+------------+-------------+-------+------+------------------+--------+---------+--------+-----------------+---------------+-----------------+------+----------+----+----+----+----+----+----+----+----+----+----+----+----+----+----+----+\n",
            "only showing top 5 rows\n",
            "\n",
            "Train data shape: (62655, 47)\n",
            "TestA data shape: (67748, 46)\n",
            "+-------+-----------------+------------------+------------------+-----------------+------------------+-----+--------+------------------+----------------+------------------+-----------------+------------------+-------------------+------------------+-----------------+------------------+------------------+-------------------+------------------+------------------+-----------------+-------------------+------------------+------------------+------------------+-----------------+-------------------+--------------------+-----------------+-----------------+----------+------------------+------------------+-----------------+-----------------+------------------+-----------------+-----------------+-----------------+------------------+-----------------+------------------+--------------------+--------------------+-------------------+-----------------+\n",
            "|summary|               id|          loanAmnt|              term|     interestRate|       installment|grade|subGrade|   employmentTitle|employmentLength|     homeOwnership|     annualIncome|verificationStatus|          isDefault|           purpose|         postCode|        regionCode|               dti| delinquency_2years|      ficoRangeLow|     ficoRangeHigh|          openAcc|             pubRec|pubRecBankruptcies|          revolBal|         revolUtil|         totalAcc|  initialListStatus|     applicationType|earliesCreditLine|            title|policyCode|                n0|                n1|               n2|               n3|                n4|               n5|               n6|               n7|                n8|               n9|               n10|                 n11|                 n12|                n13|              n14|\n",
            "+-------+-----------------+------------------+------------------+-----------------+------------------+-----+--------+------------------+----------------+------------------+-----------------+------------------+-------------------+------------------+-----------------+------------------+------------------+-------------------+------------------+------------------+-----------------+-------------------+------------------+------------------+------------------+-----------------+-------------------+--------------------+-----------------+-----------------+----------+------------------+------------------+-----------------+-----------------+------------------+-----------------+-----------------+-----------------+------------------+-----------------+------------------+--------------------+--------------------+-------------------+-----------------+\n",
            "|  count|            62655|             62655|             62655|            62655|             62655|62655|   62655|             62655|           59098|             62655|            62655|             62655|              62655|             62655|            62655|             62655|             62646|              62655|             62655|             62655|            62655|              62655|             62629|             62655|             62616|            62655|              62655|               62655|            62655|            62655|     62655|             59517|             59517|            59517|            59517|             60057|            59517|            59517|            59517|             59517|            59517|             60057|               57227|               59517|              59517|            59517|\n",
            "|   mean|          31327.0|14412.933524858352|3.4855797621897695|13.24873386002565|437.77954337243625| NULL|    NULL| 72182.40973585508|            NULL|0.6198228393583912|76010.34833229594|1.0033676482323837|0.20146835847099193|1.7451121219375947|258.5986114436198| 16.43611842630277| 18.28114308974239|0.32013406751256884| 696.1823477775117| 700.1824754608571| 11.6008618625808|0.21423669300135664| 0.133771894809114|  16174.9470114117|51.804035709722896|24.95119304125768|0.41560928896337085|0.018913095523102705|             NULL|1711.272188971351|       1.0|0.5089134196952131|3.6463195389552565|5.638153804795269|5.638153804795269| 4.731122100671029|8.090058302669826|8.586319874993698|8.277382932607491|14.593275870759616|5.583631567451317|11.645037214646086|9.960333409055166E-4|0.003511601727237596|0.09254498714652956|2.169111346338021|\n",
            "| stddev|18087.08489502938| 8704.753915873613|0.8575450751770027|4.781564255380787| 261.3249815110783| NULL|    NULL|106630.76435088748|            NULL|0.6796592297503755|77869.73422547209|0.7816515707939615|0.40110027018295674| 2.369327091354025|200.3071241511057|11.074389323676025|10.501344557268352| 0.8898611624653298|31.901832356866887|31.902429986955926|5.501655095414003| 0.6182612371921886|0.3762369492183078|21662.206340399473|24.485722445785097|12.00241696613722|0.49283068531734453|  0.1362192589076615|             NULL|7812.804774789609|       0.0|1.3561877705604044|2.2577875115828885|3.317139665108235|3.317139665108235|2.9509222144225804|4.802247901754075|7.389424789775029|4.599782890607799| 8.144871053254876|3.228705756309725| 5.511155391041186|0.032633678070183296|  0.0632723897879629| 0.5256103606984511|1.821375487987661|\n",
            "|    min|                0|             750.0|                 3|             5.31|             22.59|    A|      A1|               0.0|          1 year|                 0|              0.0|                 0|                  0|                 0|              0.0|                 0|               0.0|                0.0|             660.0|             664.0|              0.0|                0.0|               0.0|               0.0|               0.0|              2.0|                  0|                   0|         Apr-1955|              0.0|       1.0|               0.0|               0.0|              0.0|              0.0|               0.0|              0.0|              0.0|              0.0|               1.0|              0.0|               0.0|                 0.0|                 0.0|                0.0|              0.0|\n",
            "|    max|            62654|           40000.0|                 5|            30.99|            1607.8|    G|      G5|          378347.0|        < 1 year|                 5|        1.09992E7|                 2|                  1|                13|            940.0|                49|             999.0|               25.0|             845.0|             850.0|             61.0|               49.0|               6.0|          898146.0|             177.7|            120.0|                  1|                   1|         Sep-2015|          61622.0|       1.0|              26.0|              30.0|             44.0|             44.0|              40.0|             54.0|             90.0|             56.0|              92.0|             34.0|              61.0|                 2.0|                 3.0|               21.0|             20.0|\n",
            "+-------+-----------------+------------------+------------------+-----------------+------------------+-----+--------+------------------+----------------+------------------+-----------------+------------------+-------------------+------------------+-----------------+------------------+------------------+-------------------+------------------+------------------+-----------------+-------------------+------------------+------------------+------------------+-----------------+-------------------+--------------------+-----------------+-----------------+----------+------------------+------------------+-----------------+-----------------+------------------+-----------------+-----------------+-----------------+------------------+-----------------+------------------+--------------------+--------------------+-------------------+-----------------+\n",
            "\n"
          ]
        }
      ],
      "source": [
        "## Data Preprocessing\n",
        "\n",
        "#check training dataset structure\n",
        "data_train.printSchema()\n",
        "data_train.show(5)\n",
        "\n",
        "#check the size\n",
        "print(\"Train data shape:\",(data_train.count(),len(data_train.columns)))\n",
        "print(\"TestA data shape:\",(data_testA.count(),len(data_testA.columns)))\n",
        "\n",
        "data_train.describe().show()\n"
      ]
    },
    {
      "cell_type": "code",
      "execution_count": 6,
      "id": "41737795",
      "metadata": {
        "colab": {
          "base_uri": "https://localhost:8080/",
          "height": 847
        },
        "id": "41737795",
        "outputId": "f256ddf0-79b8-4185-ac67-8186c9513c81"
      },
      "outputs": [
        {
          "output_type": "display_data",
          "data": {
            "text/plain": [
              "<Figure size 1200x800 with 1 Axes>"
            ],
            "image/png": "[encoded data removed]"
          },
          "metadata": {}
        }
      ],
      "source": [
        "# visualize the NAN\n",
        "# caclulate the missing ration\n",
        "def calculate_missing_ratio(df):\n",
        "    total_count = df.count()\n",
        "    missing_ratio = df.select([((count(when(col(c).isNull(), c)) / total_count).alias(c)) for c in df.columns])\n",
        "    return missing_ratio\n",
        "\n",
        "# get the proportion of missing values\n",
        "missing_ratio_df = calculate_missing_ratio(data_train)\n",
        "\n",
        "# transform into pandas dataframe\n",
        "missing_ratio_pd = missing_ratio_df.toPandas()\n",
        "missing_ratio_pd = missing_ratio_pd.transpose()\n",
        "missing_ratio_pd.columns = ['missing_ratio']\n",
        "missing_ratio_pd = missing_ratio_pd[missing_ratio_pd['missing_ratio'] > 0]\n",
        "missing_ratio_pd.sort_values(by='missing_ratio', ascending=False, inplace=True)\n",
        "\n",
        "# plot a bar chart\n",
        "plt.figure(figsize=(12, 8))\n",
        "missing_ratio_pd['missing_ratio'].plot(kind='bar', color='skyblue')\n",
        "plt.title('Proportion of Missing Values by Column')\n",
        "plt.xlabel('Columns')\n",
        "plt.ylabel('Proportion of Missing Values')\n",
        "plt.show()"
      ]
    },
    {
      "cell_type": "code",
      "execution_count": 7,
      "id": "cef0d69d",
      "metadata": {
        "colab": {
          "base_uri": "https://localhost:8080/"
        },
        "id": "cef0d69d",
        "outputId": "db360c08-0a04-47d7-e30c-d409106ca98f"
      },
      "outputs": [
        {
          "output_type": "stream",
          "name": "stdout",
          "text": [
            "Numeric Features: ['id', 'loanAmnt', 'term', 'interestRate', 'installment', 'employmentTitle', 'homeOwnership', 'annualIncome', 'verificationStatus', 'isDefault', 'purpose', 'postCode', 'regionCode', 'dti', 'delinquency_2years', 'ficoRangeLow', 'ficoRangeHigh', 'openAcc', 'pubRec', 'pubRecBankruptcies', 'revolBal', 'revolUtil', 'totalAcc', 'initialListStatus', 'applicationType', 'title', 'policyCode', 'n0', 'n1', 'n2', 'n3', 'n4', 'n5', 'n6', 'n7', 'n8', 'n9', 'n10', 'n11', 'n12', 'n13', 'n14']\n",
            "Object Features: ['grade', 'subGrade', 'employmentLength', 'earliesCreditLine']\n"
          ]
        }
      ],
      "source": [
        "# Numeric and Object Type Characteristics\n",
        "numeric_features = [t[0] for t in data_train.dtypes if t[1] == 'int' or t[1] == 'double']\n",
        "object_features = [t[0] for t in data_train.dtypes if t[1] == 'string']\n",
        "\n",
        "print(\"Numeric Features:\", numeric_features)\n",
        "print(\"Object Features:\", object_features)"
      ]
    },
    {
      "cell_type": "code",
      "execution_count": 8,
      "id": "cb7b04c0",
      "metadata": {
        "colab": {
          "base_uri": "https://localhost:8080/"
        },
        "id": "cb7b04c0",
        "outputId": "be70ea1f-bf40-41a1-bfa8-a7c5fa2b6bca"
      },
      "outputs": [
        {
          "output_type": "stream",
          "name": "stdout",
          "text": [
            "+-----+\n",
            "|grade|\n",
            "+-----+\n",
            "|    E|\n",
            "|    D|\n",
            "|    D|\n",
            "|    A|\n",
            "|    C|\n",
            "+-----+\n",
            "only showing top 5 rows\n",
            "\n"
          ]
        }
      ],
      "source": [
        "data_train.select('grade').show(5)"
      ]
    },
    {
      "cell_type": "code",
      "execution_count": 9,
      "id": "6bddae26",
      "metadata": {
        "colab": {
          "base_uri": "https://localhost:8080/"
        },
        "id": "6bddae26",
        "outputId": "faf6b7de-455d-4c48-b087-5e4766fe3b13"
      },
      "outputs": [
        {
          "output_type": "stream",
          "name": "stdout",
          "text": [
            "Serial (Continuous) Numerical Features: ['id', 'loanAmnt', 'interestRate', 'installment', 'employmentTitle', 'annualIncome', 'purpose', 'postCode', 'regionCode', 'dti', 'delinquency_2years', 'ficoRangeLow', 'ficoRangeHigh', 'openAcc', 'pubRec', 'revolBal', 'revolUtil', 'totalAcc', 'title', 'n0', 'n1', 'n2', 'n3', 'n4', 'n5', 'n6', 'n7', 'n8', 'n9', 'n10', 'n13', 'n14']\n",
            "NoSerial (Discrete) Numerical Features: ['term', 'homeOwnership', 'verificationStatus', 'isDefault', 'pubRecBankruptcies', 'initialListStatus', 'applicationType', 'policyCode', 'n11', 'n12']\n"
          ]
        }
      ],
      "source": [
        "def get_numerical_serial_fea(data, feas):\n",
        "    numerical_serial_fea = []\n",
        "    numerical_noserial_fea = []\n",
        "\n",
        "    for fea in feas:\n",
        "        unique_count = data.agg(approx_count_distinct(col(fea)).alias('distinct_count')).collect()[0]['distinct_count']\n",
        "\n",
        "        if unique_count <= 10:\n",
        "            numerical_noserial_fea.append(fea)\n",
        "        else:\n",
        "            numerical_serial_fea.append(fea)\n",
        "\n",
        "    return numerical_serial_fea, numerical_noserial_fea\n",
        "\n",
        "try:\n",
        "    numerical_serial_fea, numerical_noserial_fea = get_numerical_serial_fea(data_train, numeric_features)\n",
        "    print(\"Serial (Continuous) Numerical Features:\", numerical_serial_fea)\n",
        "    print(\"NoSerial (Discrete) Numerical Features:\", numerical_noserial_fea)\n",
        "except Exception as e:\n",
        "    print(\"An error occurred:\", e)"
      ]
    },
    {
      "cell_type": "code",
      "execution_count": 10,
      "id": "c87ab1a8",
      "metadata": {
        "colab": {
          "base_uri": "https://localhost:8080/"
        },
        "id": "c87ab1a8",
        "outputId": "f61c5f80-416c-49b3-e2f5-3084f170ccce"
      },
      "outputs": [
        {
          "output_type": "stream",
          "name": "stdout",
          "text": [
            "+----+-----+\n",
            "|term|count|\n",
            "+----+-----+\n",
            "|   3|47443|\n",
            "|   5|15212|\n",
            "+----+-----+\n",
            "\n",
            "+-------------+-----+\n",
            "|homeOwnership|count|\n",
            "+-------------+-----+\n",
            "|            1|24907|\n",
            "|            3|   15|\n",
            "|            5|   11|\n",
            "|            4|    5|\n",
            "|            2| 6904|\n",
            "|            0|30813|\n",
            "+-------------+-----+\n",
            "\n",
            "+------------------+-----+\n",
            "|verificationStatus|count|\n",
            "+------------------+-----+\n",
            "|                 1|24374|\n",
            "|                 2|19246|\n",
            "|                 0|19035|\n",
            "+------------------+-----+\n",
            "\n",
            "+-----------------+-----+\n",
            "|initialListStatus|count|\n",
            "+-----------------+-----+\n",
            "|                1|26040|\n",
            "|                0|36615|\n",
            "+-----------------+-----+\n",
            "\n",
            "+---------------+-----+\n",
            "|applicationType|count|\n",
            "+---------------+-----+\n",
            "|              1| 1185|\n",
            "|              0|61470|\n",
            "+---------------+-----+\n",
            "\n",
            "+----------+-----+\n",
            "|policyCode|count|\n",
            "+----------+-----+\n",
            "|       1.0|62655|\n",
            "+----------+-----+\n",
            "\n",
            "+----+-----+\n",
            "| n11|count|\n",
            "+----+-----+\n",
            "| 0.0|57172|\n",
            "|NULL| 5428|\n",
            "| 1.0|   53|\n",
            "| 2.0|    2|\n",
            "+----+-----+\n",
            "\n",
            "+----+-----+\n",
            "| n12|count|\n",
            "+----+-----+\n",
            "| 0.0|59322|\n",
            "|NULL| 3138|\n",
            "| 1.0|  182|\n",
            "| 2.0|   12|\n",
            "| 3.0|    1|\n",
            "+----+-----+\n",
            "\n"
          ]
        }
      ],
      "source": [
        "# count the value\n",
        "term_counts = data_train.groupBy(\"term\").count()\n",
        "term_counts.show()\n",
        "\n",
        "homeOwnership_counts = data_train.groupBy(\"homeOwnership\").count()\n",
        "homeOwnership_counts.show()\n",
        "\n",
        "verificationStatus_counts = data_train.groupBy(\"verificationStatus\").count()\n",
        "verificationStatus_counts.show()\n",
        "\n",
        "initialListStatus_counts = data_train.groupBy(\"initialListStatus\").count()\n",
        "initialListStatus_counts.show()\n",
        "\n",
        "applicationType_counts = data_train.groupBy(\"applicationType\").count()\n",
        "applicationType_counts.show()\n",
        "\n",
        "policyCode_counts = data_train.groupBy(\"policyCode\").count()\n",
        "policyCode_counts.show()\n",
        "\n",
        "n11_counts = data_train.groupBy(\"n11\").count()\n",
        "n11_counts.show()\n",
        "\n",
        "n12_counts = data_train.groupBy(\"n12\").count()\n",
        "n12_counts.show()"
      ]
    },
    {
      "cell_type": "code",
      "execution_count": 11,
      "id": "16b09cc5",
      "metadata": {
        "colab": {
          "base_uri": "https://localhost:8080/"
        },
        "id": "16b09cc5",
        "outputId": "2aa42ad7-5fd7-453a-cf3c-01fb59690c7a"
      },
      "outputs": [
        {
          "output_type": "stream",
          "name": "stdout",
          "text": [
            "  summary        loanAmnt_log\n",
            "0   count               62655\n",
            "1    mean   9.367456209483747\n",
            "2  stddev  0.6944880216780815\n",
            "3     min   6.620073206530356\n",
            "4     25%   8.987196820661973\n",
            "5     50%   9.392661928770137\n",
            "6     75%   9.903487552536127\n",
            "7     max  10.596634733096073\n"
          ]
        }
      ],
      "source": [
        "from pyspark.sql.functions import col, log\n",
        "# caculate basisc statistics\n",
        "stats = data_train.select(log(col(\"loanAmnt\")).alias(\"loanAmnt_log\")).summary(\"count\",\"mean\",\"stddev\",\"min\",\"25%\",\"50%\",\"75%\",\"max\")\n",
        "#pandas dataframe\n",
        "stats_pd = stats.toPandas()\n",
        "print(stats_pd)"
      ]
    },
    {
      "cell_type": "code",
      "source": [
        "# calculate the object values\n",
        "grade_counts = data_train.groupBy(\"grade\").count().orderBy(\"grade\")\n",
        "subgrade_counts = data_train.groupBy(\"subGrade\").count().orderBy(\"subGrade\")\n",
        "employment_length_counts = data_train.groupBy(\"employmentLength\").count().orderBy(\"employmentLength\")\n",
        "issue_date_counts = data_train.groupBy(\"issueDate\").count().orderBy(\"issueDate\")\n",
        "earliesCreditLine_counts = data_train.groupBy(\"earliesCreditLine\").count().orderBy(\"earliesCreditLine\")\n",
        "isDefault_counts = data_train.groupBy(\"isDefault\").count().orderBy(\"isDefault\")\n",
        "\n",
        "grade_counts.show()\n",
        "subgrade_counts.show()\n",
        "employment_length_counts.show()\n",
        "issue_date_counts.show()\n",
        "earliesCreditLine_counts.show()\n",
        "isDefault_counts.show()"
      ],
      "metadata": {
        "colab": {
          "base_uri": "https://localhost:8080/"
        },
        "id": "Ns6QMRPEBxKf",
        "outputId": "d9acd553-c3b1-4254-cb61-a17db151229d"
      },
      "id": "Ns6QMRPEBxKf",
      "execution_count": 12,
      "outputs": [
        {
          "output_type": "stream",
          "name": "stdout",
          "text": [
            "+-----+-----+\n",
            "|grade|count|\n",
            "+-----+-----+\n",
            "|    A|10907|\n",
            "|    B|18304|\n",
            "|    C|17702|\n",
            "|    D| 9475|\n",
            "|    E| 4320|\n",
            "|    F| 1517|\n",
            "|    G|  430|\n",
            "+-----+-----+\n",
            "\n",
            "+--------+-----+\n",
            "|subGrade|count|\n",
            "+--------+-----+\n",
            "|      A1| 2029|\n",
            "|      A2| 1828|\n",
            "|      A3| 1746|\n",
            "|      A4| 2356|\n",
            "|      A5| 2948|\n",
            "|      B1| 3286|\n",
            "|      B2| 3468|\n",
            "|      B3| 3800|\n",
            "|      B4| 3915|\n",
            "|      B5| 3835|\n",
            "|      C1| 3957|\n",
            "|      C2| 3702|\n",
            "|      C3| 3484|\n",
            "|      C4| 3438|\n",
            "|      C5| 3121|\n",
            "|      D1| 2422|\n",
            "|      D2| 2071|\n",
            "|      D3| 1864|\n",
            "|      D4| 1708|\n",
            "|      D5| 1410|\n",
            "+--------+-----+\n",
            "only showing top 20 rows\n",
            "\n",
            "+----------------+-----+\n",
            "|employmentLength|count|\n",
            "+----------------+-----+\n",
            "|            NULL| 3557|\n",
            "|          1 year| 4212|\n",
            "|       10+ years|20469|\n",
            "|         2 years| 5732|\n",
            "|         3 years| 4962|\n",
            "|         4 years| 3804|\n",
            "|         5 years| 4025|\n",
            "|         6 years| 2999|\n",
            "|         7 years| 2712|\n",
            "|         8 years| 2764|\n",
            "|         9 years| 2411|\n",
            "|        < 1 year| 5008|\n",
            "+----------------+-----+\n",
            "\n",
            "+----------+-----+\n",
            "| issueDate|count|\n",
            "+----------+-----+\n",
            "|2007-07-01|    1|\n",
            "|2007-08-01|    2|\n",
            "|2007-09-01|    2|\n",
            "|2007-10-01|    2|\n",
            "|2007-11-01|    2|\n",
            "|2007-12-01|    3|\n",
            "|2008-01-01|    6|\n",
            "|2008-02-01|    4|\n",
            "|2008-03-01|   12|\n",
            "|2008-04-01|    5|\n",
            "|2008-05-01|    3|\n",
            "|2008-06-01|    6|\n",
            "|2008-07-01|    6|\n",
            "|2008-08-01|    2|\n",
            "|2008-09-01|    2|\n",
            "|2008-10-01|    4|\n",
            "|2008-11-01|    8|\n",
            "|2008-12-01|    9|\n",
            "|2009-01-01|   10|\n",
            "|2009-02-01|    7|\n",
            "+----------+-----+\n",
            "only showing top 20 rows\n",
            "\n",
            "+-----------------+-----+\n",
            "|earliesCreditLine|count|\n",
            "+-----------------+-----+\n",
            "|         Apr-1955|    1|\n",
            "|         Apr-1963|    2|\n",
            "|         Apr-1964|    1|\n",
            "|         Apr-1965|    2|\n",
            "|         Apr-1967|    4|\n",
            "|         Apr-1968|    4|\n",
            "|         Apr-1969|    3|\n",
            "|         Apr-1970|    3|\n",
            "|         Apr-1971|    3|\n",
            "|         Apr-1972|    7|\n",
            "|         Apr-1973|   10|\n",
            "|         Apr-1974|    4|\n",
            "|         Apr-1975|   10|\n",
            "|         Apr-1976|   12|\n",
            "|         Apr-1977|    9|\n",
            "|         Apr-1978|   24|\n",
            "|         Apr-1979|   22|\n",
            "|         Apr-1980|   23|\n",
            "|         Apr-1981|   15|\n",
            "|         Apr-1982|   30|\n",
            "+-----------------+-----+\n",
            "only showing top 20 rows\n",
            "\n",
            "+---------+-----+\n",
            "|isDefault|count|\n",
            "+---------+-----+\n",
            "|        0|50032|\n",
            "|        1|12623|\n",
            "+---------+-----+\n",
            "\n"
          ]
        }
      ]
    },
    {
      "cell_type": "code",
      "source": [
        "## Data Pre-Processing\n",
        "# NAN values\n",
        "from pyspark.sql.functions import col, sum as spark_sum, isnan, when, count\n",
        "missing_data = data_train.select(\n",
        "    [count(when(col(c).isNull(), c)).alias(c) for c in data_train.columns]\n",
        ")\n",
        "missing_data.show()"
      ],
      "metadata": {
        "colab": {
          "base_uri": "https://localhost:8080/"
        },
        "id": "BvIL4VRMCUCh",
        "outputId": "098a5761-7fd3-42fb-822c-892374e6f1f4"
      },
      "id": "BvIL4VRMCUCh",
      "execution_count": 13,
      "outputs": [
        {
          "output_type": "stream",
          "name": "stdout",
          "text": [
            "+---+--------+----+------------+-----------+-----+--------+---------------+----------------+-------------+------------+------------------+---------+---------+-------+--------+----------+---+------------------+------------+-------------+-------+------+------------------+--------+---------+--------+-----------------+---------------+-----------------+-----+----------+----+----+----+----+----+----+----+----+----+----+----+----+----+----+----+\n",
            "| id|loanAmnt|term|interestRate|installment|grade|subGrade|employmentTitle|employmentLength|homeOwnership|annualIncome|verificationStatus|issueDate|isDefault|purpose|postCode|regionCode|dti|delinquency_2years|ficoRangeLow|ficoRangeHigh|openAcc|pubRec|pubRecBankruptcies|revolBal|revolUtil|totalAcc|initialListStatus|applicationType|earliesCreditLine|title|policyCode|  n0|  n1|  n2|  n3|  n4|  n5|  n6|  n7|  n8|  n9| n10| n11| n12| n13| n14|\n",
            "+---+--------+----+------------+-----------+-----+--------+---------------+----------------+-------------+------------+------------------+---------+---------+-------+--------+----------+---+------------------+------------+-------------+-------+------+------------------+--------+---------+--------+-----------------+---------------+-----------------+-----+----------+----+----+----+----+----+----+----+----+----+----+----+----+----+----+----+\n",
            "|  0|       0|   0|           0|          0|    0|       0|              0|            3557|            0|           0|                 0|        0|        0|      0|       0|         0|  9|                 0|           0|            0|      0|     0|                26|       0|       39|       0|                0|              0|                0|    0|         0|3138|3138|3138|3138|2598|3138|3138|3138|3138|3138|2598|5428|3138|3138|3138|\n",
            "+---+--------+----+------------+-----------+-----+--------+---------------+----------------+-------------+------------+------------------+---------+---------+-------+--------+----------+---+------------------+------------+-------------+-------+------+------------------+--------+---------+--------+-----------------+---------------+-----------------+-----+----------+----+----+----+----+----+----+----+----+----+----+----+----+----+----+----+\n",
            "\n"
          ]
        }
      ]
    },
    {
      "cell_type": "code",
      "source": [
        "##fill the NAN\n",
        "from pyspark.sql.functions import col, lit, when\n",
        "\n",
        "# Add a default 'isDefault' column to the test set for structural consistency\n",
        "data_testA = data_testA.withColumn('isDefault', lit(-1))\n",
        "\n",
        "# Merge the datasets\n",
        "combined_data = data_train.unionByName(data_testA)\n",
        "\n",
        "# Fill in numeric features\n",
        "for col in numeric_features:\n",
        "    if col in combined_data.columns:\n",
        "        median_value = combined_data.approxQuantile(col, [0.5], 0.001)[0]\n",
        "        combined_data = combined_data.na.fill({col: median_value})\n",
        "\n",
        "# Fill in object features\n",
        "for col in object_features:\n",
        "    if col in combined_data.columns:\n",
        "        mode_value = combined_data.groupBy(col).count().orderBy('count', ascending=False).first()[0]\n",
        "        combined_data = combined_data.na.fill({col: mode_value})\n",
        "\n",
        "# Separate the datasets\n",
        "data_train = combined_data.where(combined_data['isDefault'] != -1)\n",
        "data_test_a = combined_data.where(combined_data['isDefault'] == -1).drop('isDefault')"
      ],
      "metadata": {
        "id": "vYXafY6BK4IS"
      },
      "id": "vYXafY6BK4IS",
      "execution_count": 14,
      "outputs": []
    },
    {
      "cell_type": "code",
      "source": [
        "# recaculate the NAN\n",
        "from pyspark.sql.functions import col, count, when\n",
        "\n",
        "null_counts = data_train.select([(count(when(col(c).isNull(), c))).alias(c) for c in data_train.columns])\n",
        "\n",
        "null_counts.show()\n"
      ],
      "metadata": {
        "colab": {
          "base_uri": "https://localhost:8080/"
        },
        "id": "1J2qtweOctvh",
        "outputId": "153d1175-dc07-4e8f-a09d-99f8cf9f7170"
      },
      "id": "1J2qtweOctvh",
      "execution_count": 15,
      "outputs": [
        {
          "output_type": "stream",
          "name": "stdout",
          "text": [
            "+---+--------+----+------------+-----------+-----+--------+---------------+----------------+-------------+------------+------------------+---------+---------+-------+--------+----------+---+------------------+------------+-------------+-------+------+------------------+--------+---------+--------+-----------------+---------------+-----------------+-----+----------+---+---+---+---+---+---+---+---+---+---+---+---+---+---+---+\n",
            "| id|loanAmnt|term|interestRate|installment|grade|subGrade|employmentTitle|employmentLength|homeOwnership|annualIncome|verificationStatus|issueDate|isDefault|purpose|postCode|regionCode|dti|delinquency_2years|ficoRangeLow|ficoRangeHigh|openAcc|pubRec|pubRecBankruptcies|revolBal|revolUtil|totalAcc|initialListStatus|applicationType|earliesCreditLine|title|policyCode| n0| n1| n2| n3| n4| n5| n6| n7| n8| n9|n10|n11|n12|n13|n14|\n",
            "+---+--------+----+------------+-----------+-----+--------+---------------+----------------+-------------+------------+------------------+---------+---------+-------+--------+----------+---+------------------+------------+-------------+-------+------+------------------+--------+---------+--------+-----------------+---------------+-----------------+-----+----------+---+---+---+---+---+---+---+---+---+---+---+---+---+---+---+\n",
            "|  0|       0|   0|           0|          0|    0|       0|              0|               0|            0|           0|                 0|        0|        0|      0|       0|         0|  0|                 0|           0|            0|      0|     0|                 0|       0|        0|       0|                0|              0|                0|    0|         0|  0|  0|  0|  0|  0|  0|  0|  0|  0|  0|  0|  0|  0|  0|  0|\n",
            "+---+--------+----+------------+-----------+-----+--------+---------------+----------------+-------------+------------+------------------+---------+---------+-------+--------+----------+---+------------------+------------+-------------+-------+------+------------------+--------+---------+--------+-----------------+---------------+-----------------+-----+----------+---+---+---+---+---+---+---+---+---+---+---+---+---+---+---+\n",
            "\n"
          ]
        }
      ]
    },
    {
      "cell_type": "code",
      "source": [
        "## employmentlength pre-pro\n",
        "from pyspark.sql.functions import col, to_date, datediff, lit\n",
        "\n",
        "# Define the start date\n",
        "startdate = lit(\"2007-06-01\")\n",
        "\n",
        "for data in [data_train, data_testA]:\n",
        "    # Convert 'issueDate' from string to date format\n",
        "    data = data.withColumn('issueDate', to_date(col('issueDate'), 'yyyy-MM-dd'))\n",
        "    # Create a new column 'issueDateDT' as the difference in days from the start date\n",
        "    data = data.withColumn('issueDateDT', datediff(col('issueDate'), startdate))\n",
        "\n",
        "employment_length_counts = data_train.groupBy('employmentLength').count().orderBy('employmentLength')\n",
        "\n",
        "# Show the result\n",
        "employment_length_counts.show()\n",
        "data_train.select('issueDate').show(5)"
      ],
      "metadata": {
        "colab": {
          "base_uri": "https://localhost:8080/"
        },
        "id": "CYtrND4pbII9",
        "outputId": "9719938a-4a4c-446b-a56b-a222c2b0b687"
      },
      "id": "CYtrND4pbII9",
      "execution_count": 16,
      "outputs": [
        {
          "output_type": "stream",
          "name": "stdout",
          "text": [
            "+----------------+-----+\n",
            "|employmentLength|count|\n",
            "+----------------+-----+\n",
            "|          1 year| 4212|\n",
            "|       10+ years|24026|\n",
            "|         2 years| 5732|\n",
            "|         3 years| 4962|\n",
            "|         4 years| 3804|\n",
            "|         5 years| 4025|\n",
            "|         6 years| 2999|\n",
            "|         7 years| 2712|\n",
            "|         8 years| 2764|\n",
            "|         9 years| 2411|\n",
            "|        < 1 year| 5008|\n",
            "+----------------+-----+\n",
            "\n",
            "+----------+\n",
            "| issueDate|\n",
            "+----------+\n",
            "|2014-07-01|\n",
            "|2012-08-01|\n",
            "|2015-10-01|\n",
            "|2015-08-01|\n",
            "|2016-03-01|\n",
            "+----------+\n",
            "only showing top 5 rows\n",
            "\n"
          ]
        }
      ]
    },
    {
      "cell_type": "code",
      "source": [
        "## transform employment into float\n",
        "from pyspark.sql.functions import udf, col, when\n",
        "from pyspark.sql.types import FloatType\n",
        "\n",
        "# Define a UDF to convert employment length strings to float values\n",
        "def employment_length_to_float(s):\n",
        "    if s is None:\n",
        "        return None\n",
        "    elif s == '< 1 year':\n",
        "        return 0.0\n",
        "    else:\n",
        "        return float(s.split()[0])\n",
        "\n",
        "employment_length_to_float_udf = udf(employment_length_to_float, FloatType())\n",
        "\n",
        "# Update and replace '10+ years' with '10 years' and '< 1 year' with '0 years'\n",
        "data_train = data_train.withColumn('employmentLength',\n",
        "                                   when(col('employmentLength') == '10+ years', '10 years')\n",
        "                                   .when(col('employmentLength') == '< 1 year', '0 years')\n",
        "                                   .otherwise(col('employmentLength')))\n",
        "\n",
        "data_train = data_train.withColumn('employmentLength', employment_length_to_float_udf(col('employmentLength')))\n",
        "\n",
        "data_testA = data_testA.withColumn('employmentLength',\n",
        "                                   when(col('employmentLength') == '10+ years', '10 years')\n",
        "                                   .when(col('employmentLength') == '< 1 year', '0 years')\n",
        "                                   .otherwise(col('employmentLength')))\n",
        "\n",
        "data_testA = data_testA.withColumn('employmentLength', employment_length_to_float_udf(col('employmentLength')))\n",
        "\n",
        "# Show the results after conversion\n",
        "data_train.select('employmentLength').show()\n"
      ],
      "metadata": {
        "colab": {
          "base_uri": "https://localhost:8080/"
        },
        "id": "pwSefnq-mhNL",
        "outputId": "2cf70971-d6e2-4fe7-fb53-681a013832af"
      },
      "id": "pwSefnq-mhNL",
      "execution_count": 17,
      "outputs": [
        {
          "output_type": "stream",
          "name": "stdout",
          "text": [
            "+----------------+\n",
            "|employmentLength|\n",
            "+----------------+\n",
            "|             2.0|\n",
            "|             5.0|\n",
            "|             8.0|\n",
            "|            10.0|\n",
            "|            10.0|\n",
            "|             7.0|\n",
            "|             9.0|\n",
            "|             1.0|\n",
            "|             5.0|\n",
            "|            10.0|\n",
            "|            10.0|\n",
            "|             3.0|\n",
            "|             2.0|\n",
            "|            10.0|\n",
            "|             2.0|\n",
            "|             2.0|\n",
            "|             9.0|\n",
            "|             0.0|\n",
            "|            10.0|\n",
            "|             9.0|\n",
            "+----------------+\n",
            "only showing top 20 rows\n",
            "\n"
          ]
        }
      ]
    },
    {
      "cell_type": "code",
      "source": [
        "## earliescredit trans\n",
        "from pyspark.sql.functions import udf\n",
        "from pyspark.sql.types import IntegerType\n",
        "\n",
        "# Define a UDF to extract the year from the 'earliesCreditLine' string\n",
        "def extract_year(credit_line):\n",
        "    return int(credit_line[-4:])\n",
        "\n",
        "# Register the UDF\n",
        "extract_year_udf = udf(extract_year, IntegerType())\n",
        "\n",
        "# Apply the UDF to the 'earliesCreditLine' column of each DataFrame\n",
        "for data in [data_train, data_test_a]:\n",
        "    data = data.withColumn('earliesCreditLine', extract_year_udf(data['earliesCreditLine']))\n",
        "\n",
        "# Show the results to verify the transformation, displaying only the 'earliesCreditLine' column\n",
        "data_train.select('earliesCreditLine').show()\n",
        "data_test_a.select('earliesCreditLine').show()"
      ],
      "metadata": {
        "colab": {
          "base_uri": "https://localhost:8080/"
        },
        "id": "Ehj24XLKm9n6",
        "outputId": "dea9d23b-e60f-470d-f41e-030ced026587"
      },
      "id": "Ehj24XLKm9n6",
      "execution_count": 18,
      "outputs": [
        {
          "output_type": "stream",
          "name": "stdout",
          "text": [
            "+-----------------+\n",
            "|earliesCreditLine|\n",
            "+-----------------+\n",
            "|         Aug-2001|\n",
            "|         May-2002|\n",
            "|         May-2006|\n",
            "|         May-1999|\n",
            "|         Aug-1977|\n",
            "|         Jul-1998|\n",
            "|         Oct-2006|\n",
            "|         Dec-1994|\n",
            "|         Apr-1994|\n",
            "|         Jan-1993|\n",
            "|         Nov-1996|\n",
            "|         Aug-2007|\n",
            "|         Feb-2014|\n",
            "|         Oct-1983|\n",
            "|         May-2011|\n",
            "|         Oct-1996|\n",
            "|         Mar-2002|\n",
            "|         Jun-1995|\n",
            "|         Aug-2001|\n",
            "|         Oct-1999|\n",
            "+-----------------+\n",
            "only showing top 20 rows\n",
            "\n",
            "+-----------------+\n",
            "|earliesCreditLine|\n",
            "+-----------------+\n",
            "|         Nov-1974|\n",
            "|         Jul-2001|\n",
            "|         Aug-2006|\n",
            "|         Jul-2002|\n",
            "|         Dec-2000|\n",
            "|         Jul-2000|\n",
            "|         Jan-1998|\n",
            "|         Feb-2007|\n",
            "|         May-2004|\n",
            "|         Sep-1992|\n",
            "|         Feb-2007|\n",
            "|         Dec-2003|\n",
            "|         Jun-2000|\n",
            "|         Dec-1998|\n",
            "|         Jan-1987|\n",
            "|         Aug-1983|\n",
            "|         Mar-2006|\n",
            "|         Mar-2002|\n",
            "|         Oct-1986|\n",
            "|         Aug-2005|\n",
            "+-----------------+\n",
            "only showing top 20 rows\n",
            "\n"
          ]
        }
      ]
    },
    {
      "cell_type": "code",
      "source": [
        "from pyspark.sql.functions import when, col\n",
        "from pyspark.ml.feature import StringIndexer, OneHotEncoder\n",
        "\n",
        "# Convert 'grade' to numeric values\n",
        "grade_mapping = {'A': 1, 'B': 2, 'C': 3, 'D': 4, 'E': 5, 'F': 6, 'G': 7}\n",
        "for grade, mapping in grade_mapping.items():\n",
        "    data_train = data_train.withColumn('grade', when(col('grade') == grade, mapping).otherwise(col('grade')))\n",
        "    data_testA = data_testA.withColumn('grade', when(col('grade') == grade, mapping).otherwise(col('grade')))\n",
        "\n",
        "# Define categorical columns to be one-hot encoded\n",
        "categorical_columns = ['subGrade', 'homeOwnership', 'verificationStatus', 'purpose', 'regionCode']\n",
        "indexed_columns = []  # to store indexed column names\n",
        "encoded_columns = []  # to store encoded column names\n",
        "\n",
        "for column in categorical_columns:\n",
        "    # Index each categorical column before encoding\n",
        "    indexer = StringIndexer(inputCol=column, outputCol=column + \"Index\")\n",
        "    data_train = indexer.fit(data_train).transform(data_train)\n",
        "    data_testA = indexer.fit(data_testA).transform(data_testA)\n",
        "    indexed_columns.append(column + \"Index\")\n",
        "\n",
        "    # Apply one-hot encoding to the indexed columns\n",
        "    encoder = OneHotEncoder(inputCols=[column + \"Index\"], outputCols=[column + \"OHE\"])\n",
        "    data_train = encoder.fit(data_train).transform(data_train)\n",
        "    data_testA = encoder.fit(data_testA).transform(data_testA)\n",
        "    encoded_columns.append(column + \"OHE\")\n",
        "\n",
        "    # Optionally drop original columns if no longer needed\n",
        "    data_train = data_train.drop(column)\n",
        "    data_testA = data_testA.drop(column)\n",
        "\n",
        "# Collect all new feature column names\n",
        "all_new_features = indexed_columns + encoded_columns + ['grade']\n",
        "\n",
        "# Show the results for modified features only\n",
        "data_train.select(all_new_features).show()\n"
      ],
      "metadata": {
        "colab": {
          "base_uri": "https://localhost:8080/"
        },
        "id": "GscHiXQlnexO",
        "outputId": "9403cb01-f05c-4b3a-d7ab-e73eab07362c"
      },
      "id": "GscHiXQlnexO",
      "execution_count": 19,
      "outputs": [
        {
          "output_type": "stream",
          "name": "stdout",
          "text": [
            "+-------------+------------------+-----------------------+------------+---------------+---------------+----------------+---------------------+--------------+---------------+-----+\n",
            "|subGradeIndex|homeOwnershipIndex|verificationStatusIndex|purposeIndex|regionCodeIndex|    subGradeOHE|homeOwnershipOHE|verificationStatusOHE|    purposeOHE|  regionCodeOHE|grade|\n",
            "+-------------+------------------+-----------------------+------------+---------------+---------------+----------------+---------------------+--------------+---------------+-----+\n",
            "|         21.0|               2.0|                    1.0|         5.0|           19.0|(34,[21],[1.0])|   (5,[2],[1.0])|        (2,[1],[1.0])|(13,[5],[1.0])|(49,[19],[1.0])|    5|\n",
            "|         13.0|               0.0|                    1.0|         0.0|           16.0|(34,[13],[1.0])|   (5,[0],[1.0])|        (2,[1],[1.0])|(13,[0],[1.0])|(49,[16],[1.0])|    4|\n",
            "|         15.0|               0.0|                    1.0|         0.0|            1.0|(34,[15],[1.0])|   (5,[0],[1.0])|        (2,[1],[1.0])|(13,[0],[1.0])| (49,[1],[1.0])|    4|\n",
            "|         12.0|               1.0|                    0.0|         1.0|           18.0|(34,[12],[1.0])|   (5,[1],[1.0])|        (2,[0],[1.0])|(13,[1],[1.0])|(49,[18],[1.0])|    1|\n",
            "|          4.0|               1.0|                    1.0|         8.0|            3.0| (34,[4],[1.0])|   (5,[1],[1.0])|        (2,[1],[1.0])|(13,[8],[1.0])| (49,[3],[1.0])|    3|\n",
            "|         10.0|               0.0|                    1.0|         6.0|            3.0|(34,[10],[1.0])|   (5,[0],[1.0])|        (2,[1],[1.0])|(13,[6],[1.0])| (49,[3],[1.0])|    1|\n",
            "|         12.0|               0.0|                    2.0|         0.0|            1.0|(34,[12],[1.0])|   (5,[0],[1.0])|            (2,[],[])|(13,[0],[1.0])| (49,[1],[1.0])|    1|\n",
            "|          5.0|               1.0|                    1.0|         0.0|           17.0| (34,[5],[1.0])|   (5,[1],[1.0])|        (2,[1],[1.0])|(13,[0],[1.0])|(49,[17],[1.0])|    3|\n",
            "|          4.0|               2.0|                    0.0|         0.0|            2.0| (34,[4],[1.0])|   (5,[2],[1.0])|        (2,[0],[1.0])|(13,[0],[1.0])| (49,[2],[1.0])|    3|\n",
            "|          1.0|               1.0|                    1.0|         0.0|           18.0| (34,[1],[1.0])|   (5,[1],[1.0])|        (2,[1],[1.0])|(13,[0],[1.0])|(49,[18],[1.0])|    2|\n",
            "|          2.0|               1.0|                    2.0|         1.0|            0.0| (34,[2],[1.0])|   (5,[1],[1.0])|            (2,[],[])|(13,[1],[1.0])| (49,[0],[1.0])|    2|\n",
            "|         24.0|               0.0|                    2.0|         0.0|           49.0|(34,[24],[1.0])|   (5,[0],[1.0])|            (2,[],[])|(13,[0],[1.0])|     (49,[],[])|    5|\n",
            "|         18.0|               1.0|                    2.0|         0.0|           20.0|(34,[18],[1.0])|   (5,[1],[1.0])|            (2,[],[])|(13,[0],[1.0])|(49,[20],[1.0])|    4|\n",
            "|          3.0|               0.0|                    0.0|         2.0|            0.0| (34,[3],[1.0])|   (5,[0],[1.0])|        (2,[0],[1.0])|(13,[2],[1.0])| (49,[0],[1.0])|    2|\n",
            "|         10.0|               1.0|                    2.0|         1.0|            0.0|(34,[10],[1.0])|   (5,[1],[1.0])|            (2,[],[])|(13,[1],[1.0])| (49,[0],[1.0])|    1|\n",
            "|          6.0|               0.0|                    0.0|         2.0|           20.0| (34,[6],[1.0])|   (5,[0],[1.0])|        (2,[0],[1.0])|(13,[2],[1.0])|(49,[20],[1.0])|    2|\n",
            "|         11.0|               0.0|                    2.0|         2.0|           22.0|(34,[11],[1.0])|   (5,[0],[1.0])|            (2,[],[])|(13,[2],[1.0])|(49,[22],[1.0])|    4|\n",
            "|          1.0|               1.0|                    0.0|         1.0|            0.0| (34,[1],[1.0])|   (5,[1],[1.0])|        (2,[0],[1.0])|(13,[1],[1.0])| (49,[0],[1.0])|    2|\n",
            "|         21.0|               1.0|                    2.0|         4.0|            0.0|(34,[21],[1.0])|   (5,[1],[1.0])|            (2,[],[])|(13,[4],[1.0])| (49,[0],[1.0])|    5|\n",
            "|         20.0|               1.0|                    1.0|         0.0|           30.0|(34,[20],[1.0])|   (5,[1],[1.0])|        (2,[1],[1.0])|(13,[0],[1.0])|(49,[30],[1.0])|    5|\n",
            "+-------------+------------------+-----------------------+------------+---------------+---------------+----------------+---------------------+--------------+---------------+-----+\n",
            "only showing top 20 rows\n",
            "\n"
          ]
        }
      ]
    },
    {
      "cell_type": "code",
      "source": [],
      "metadata": {
        "id": "coavc5uQoWks"
      },
      "id": "coavc5uQoWks",
      "execution_count": null,
      "outputs": []
    }
  ],
  "metadata": {
    "kernelspec": {
      "display_name": "Python 3 (ipykernel)",
      "language": "python",
      "name": "python3"
    },
    "language_info": {
      "codemirror_mode": {
        "name": "ipython",
        "version": 3
      },
      "file_extension": ".py",
      "mimetype": "text/x-python",
      "name": "python",
      "nbconvert_exporter": "python",
      "pygments_lexer": "ipython3",
      "version": "3.10.12"
    },
    "colab": {
      "provenance": [],
      "include_colab_link": true
    }
  },
  "nbformat": 4,
  "nbformat_minor": 5
}